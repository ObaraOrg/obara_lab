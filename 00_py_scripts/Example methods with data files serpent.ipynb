{
 "cells": [
  {
   "cell_type": "code",
   "execution_count": 50,
   "id": "0fac5c60",
   "metadata": {},
   "outputs": [],
   "source": [
    "import serpentTools\n",
    "from serpentTools.settings import rc\n",
    "import matplotlib.pyplot as plt \n",
    "import numpy as np"
   ]
  },
  {
   "cell_type": "code",
   "execution_count": 2,
   "id": "11526176",
   "metadata": {},
   "outputs": [],
   "source": [
    "depFile = 'demo_dep.m'\n",
    "dep = serpentTools.readDataFile(depFile)"
   ]
  },
  {
   "cell_type": "code",
   "execution_count": 9,
   "id": "f086d604",
   "metadata": {},
   "outputs": [
    {
     "data": {
      "text/plain": [
       "['__abstractmethods__',\n",
       " '__class__',\n",
       " '__contains__',\n",
       " '__delattr__',\n",
       " '__dict__',\n",
       " '__dir__',\n",
       " '__doc__',\n",
       " '__eq__',\n",
       " '__format__',\n",
       " '__ge__',\n",
       " '__getattribute__',\n",
       " '__getitem__',\n",
       " '__gt__',\n",
       " '__hash__',\n",
       " '__init__',\n",
       " '__init_subclass__',\n",
       " '__iter__',\n",
       " '__le__',\n",
       " '__len__',\n",
       " '__lt__',\n",
       " '__module__',\n",
       " '__ne__',\n",
       " '__new__',\n",
       " '__reduce__',\n",
       " '__reduce_ex__',\n",
       " '__repr__',\n",
       " '__setattr__',\n",
       " '__sizeof__',\n",
       " '__slots__',\n",
       " '__str__',\n",
       " '__subclasshook__',\n",
       " '__weakref__',\n",
       " '_abc_impl',\n",
       " '_addMetadata',\n",
       " '_checkAddData',\n",
       " '_checkCompareObj',\n",
       " '_cleanSingleLine',\n",
       " '_compare',\n",
       " '_compareLogPreMsg',\n",
       " '_compareMaterials',\n",
       " '_compareMetadata',\n",
       " '_comparePrecheckMetadata',\n",
       " '_gather_matlab',\n",
       " '_matPatterns',\n",
       " '_postcheck',\n",
       " '_precheck',\n",
       " '_processChunk',\n",
       " '_read',\n",
       " 'burnup',\n",
       " 'compare',\n",
       " 'compareMaterials',\n",
       " 'compareMetadata',\n",
       " 'days',\n",
       " 'docAttrs',\n",
       " 'filePath',\n",
       " 'get',\n",
       " 'items',\n",
       " 'keys',\n",
       " 'materials',\n",
       " 'metadata',\n",
       " 'names',\n",
       " 'plot',\n",
       " 'read',\n",
       " 'saveAsMatlab',\n",
       " 'settings',\n",
       " 'toMatlab',\n",
       " 'values',\n",
       " 'zais']"
      ]
     },
     "execution_count": 9,
     "metadata": {},
     "output_type": "execute_result"
    }
   ],
   "source": [
    "dir(dep)"
   ]
  },
  {
   "cell_type": "code",
   "execution_count": 11,
   "id": "9d08bad2",
   "metadata": {},
   "outputs": [
    {
     "data": {
      "text/plain": [
       "numpy.ndarray"
      ]
     },
     "execution_count": 11,
     "metadata": {},
     "output_type": "execute_result"
    }
   ],
   "source": [
    "type(dep.burnup)"
   ]
  },
  {
   "cell_type": "code",
   "execution_count": 14,
   "id": "15f46595",
   "metadata": {
    "scrolled": true
   },
   "outputs": [
    {
     "data": {
      "text/plain": [
       "array([0.  , 0.02, 0.04, 0.06, 0.08, 0.1 , 0.12, 0.14, 0.16, 0.18, 0.2 ,\n",
       "       0.22, 0.24, 0.26, 0.28, 0.3 , 0.32, 0.34, 0.36, 0.38, 0.4 , 0.42,\n",
       "       0.44, 0.46, 0.48, 0.5 , 0.52, 0.54, 0.56, 0.58, 0.6 , 0.62, 0.64,\n",
       "       0.66, 0.68, 0.7 , 0.72, 0.74, 0.76, 0.78, 0.8 , 0.82, 0.84, 0.86,\n",
       "       0.88, 0.9 , 0.92, 0.94, 0.96, 0.98, 1.  , 1.02, 1.04, 1.06, 1.08,\n",
       "       1.1 , 1.12, 1.14, 1.16, 1.18, 1.2 , 1.22, 1.24, 1.26, 1.28, 1.3 ,\n",
       "       1.32, 1.34, 1.36, 1.38, 1.4 , 1.42])"
      ]
     },
     "execution_count": 14,
     "metadata": {},
     "output_type": "execute_result"
    }
   ],
   "source": [
    "dep.burnup"
   ]
  },
  {
   "cell_type": "code",
   "execution_count": 15,
   "id": "37936365",
   "metadata": {},
   "outputs": [
    {
     "data": {
      "text/plain": [
       "[<matplotlib.lines.Line2D at 0x7fef1d4d7e10>]"
      ]
     },
     "execution_count": 15,
     "metadata": {},
     "output_type": "execute_result"
    },
    {
     "data": {
      "image/png": "[encoded data removed]",
      "text/plain": [
       "<Figure size 640x480 with 1 Axes>"
      ]
     },
     "metadata": {},
     "output_type": "display_data"
    },
    {
     "name": "stderr",
     "output_type": "stream",
     "text": [
      "Executing <Task pending name='Task-3' coro=<Kernel.dispatch_queue() running at /home/petarmirceski/repos/floquet_exponents_tutorial/.direnv/python-3.9.10/lib/python3.9/site-packages/ipykernel/kernelbase.py:510> wait_for=<Future pending cb=[<TaskWakeupMethWrapper object at 0x7fef5c0f1fd0>()] created at /home/petarmirceski/repos/floquet_exponents_tutorial/.direnv/python-3.9.10/lib/python3.9/site-packages/tornado/queues.py:248> cb=[IOLoop.add_future.<locals>.<lambda>() at /home/petarmirceski/repos/floquet_exponents_tutorial/.direnv/python-3.9.10/lib/python3.9/site-packages/tornado/ioloop.py:687] created at /home/petarmirceski/repos/floquet_exponents_tutorial/.direnv/python-3.9.10/lib/python3.9/site-packages/tornado/gen.py:874> took 0.199 seconds\n"
     ]
    }
   ],
   "source": [
    "plt.plot(dep.burnup)"
   ]
  },
  {
   "cell_type": "code",
   "execution_count": 34,
   "id": "1cee34ed",
   "metadata": {},
   "outputs": [
    {
     "data": {
      "text/plain": [
       "{'fuel0': <serpentTools.objects.materials.DepletedMaterial at 0x7fef1d58f9b0>,\n",
       " 'bglass0': <serpentTools.objects.materials.DepletedMaterial at 0x7fef1d58b460>,\n",
       " 'total': <serpentTools.objects.materials.DepletedMaterial at 0x7fef5c0f3140>}"
      ]
     },
     "execution_count": 34,
     "metadata": {},
     "output_type": "execute_result"
    }
   ],
   "source": [
    "dep.materials"
   ]
  },
  {
   "cell_type": "code",
   "execution_count": 37,
   "id": "86480cb8",
   "metadata": {},
   "outputs": [
    {
     "data": {
      "text/plain": [
       "<serpentTools.objects.materials.DepletedMaterial at 0x7fef1d58f9b0>"
      ]
     },
     "execution_count": 37,
     "metadata": {},
     "output_type": "execute_result"
    }
   ],
   "source": [
    "dep.materials['fuel0']"
   ]
  },
  {
   "cell_type": "code",
   "execution_count": 45,
   "id": "bf7352fb",
   "metadata": {},
   "outputs": [
    {
     "data": {
      "text/plain": [
       "['__class__',\n",
       " '__delattr__',\n",
       " '__dict__',\n",
       " '__dir__',\n",
       " '__doc__',\n",
       " '__eq__',\n",
       " '__format__',\n",
       " '__ge__',\n",
       " '__getattribute__',\n",
       " '__getitem__',\n",
       " '__gt__',\n",
       " '__hash__',\n",
       " '__init__',\n",
       " '__init_subclass__',\n",
       " '__le__',\n",
       " '__lt__',\n",
       " '__module__',\n",
       " '__ne__',\n",
       " '__new__',\n",
       " '__reduce__',\n",
       " '__reduce_ex__',\n",
       " '__repr__',\n",
       " '__setattr__',\n",
       " '__sizeof__',\n",
       " '__str__',\n",
       " '__subclasshook__',\n",
       " '__weakref__',\n",
       " '_checkCompareObj',\n",
       " '_checkTimePoints',\n",
       " '_compare',\n",
       " '_compareLogPreMsg',\n",
       " '_formatLabel',\n",
       " '_getColIndices',\n",
       " '_getIsoID',\n",
       " '_getRowIndices',\n",
       " '_slice',\n",
       " 'activity',\n",
       " 'addData',\n",
       " 'adens',\n",
       " 'burnup',\n",
       " 'compare',\n",
       " 'data',\n",
       " 'days',\n",
       " 'decayHeat',\n",
       " 'docAttrs',\n",
       " 'docEquiv',\n",
       " 'docParams',\n",
       " 'get',\n",
       " 'getValues',\n",
       " 'ingTox',\n",
       " 'inhTox',\n",
       " 'mdens',\n",
       " 'name',\n",
       " 'names',\n",
       " 'photonProdRate',\n",
       " 'plot',\n",
       " 'spontaneousFissionRate',\n",
       " 'toDataFrame',\n",
       " 'volume',\n",
       " 'zai']"
      ]
     },
     "execution_count": 45,
     "metadata": {},
     "output_type": "execute_result"
    }
   ],
   "source": [
    "dir(dep.materials['fuel0'])"
   ]
  },
  {
   "cell_type": "code",
   "execution_count": 115,
   "id": "81756785",
   "metadata": {},
   "outputs": [
    {
     "data": {
      "text/plain": [
       "(34, 72)"
      ]
     },
     "execution_count": 115,
     "metadata": {},
     "output_type": "execute_result"
    }
   ],
   "source": [
    "dep.materials['fuel0'].spontaneousFissionRate.shape"
   ]
  },
  {
   "cell_type": "code",
   "execution_count": 122,
   "id": "6898b6dc",
   "metadata": {},
   "outputs": [
    {
     "data": {
      "text/plain": [
       "[<matplotlib.lines.Line2D at 0x7fef173cfe10>,\n",
       " <matplotlib.lines.Line2D at 0x7fef173e9320>,\n",
       " <matplotlib.lines.Line2D at 0x7fef173e9280>]"
      ]
     },
     "execution_count": 122,
     "metadata": {},
     "output_type": "execute_result"
    },
    {
     "data": {
      "image/png": "[encoded data removed]",
      "text/plain": [
       "<Figure size 640x480 with 1 Axes>"
      ]
     },
     "metadata": {},
     "output_type": "display_data"
    },
    {
     "name": "stderr",
     "output_type": "stream",
     "text": [
      "Executing <Task pending name='Task-3' coro=<Kernel.dispatch_queue() running at /home/petarmirceski/repos/floquet_exponents_tutorial/.direnv/python-3.9.10/lib/python3.9/site-packages/ipykernel/kernelbase.py:510> wait_for=<Future pending cb=[<TaskWakeupMethWrapper object at 0x7fef175c9c10>()] created at /home/petarmirceski/repos/floquet_exponents_tutorial/.direnv/python-3.9.10/lib/python3.9/site-packages/tornado/queues.py:248> cb=[IOLoop.add_future.<locals>.<lambda>() at /home/petarmirceski/repos/floquet_exponents_tutorial/.direnv/python-3.9.10/lib/python3.9/site-packages/tornado/ioloop.py:687] created at /home/petarmirceski/repos/floquet_exponents_tutorial/.direnv/python-3.9.10/lib/python3.9/site-packages/tornado/gen.py:874> took 0.182 seconds\n"
     ]
    }
   ],
   "source": [
    "plt.plot(dep.materials['fuel0'].burnup, dep.materials['fuel0'].spontaneousFissionRate[7:10].T)"
   ]
  },
  {
   "cell_type": "code",
   "execution_count": 71,
   "id": "85d539c6",
   "metadata": {},
   "outputs": [
    {
     "data": {
      "text/plain": [
       "array([0.        , 0.00702676, 0.0144405 , 0.0218803 , 0.0297245 ,\n",
       "       0.0370823 , 0.0447201 , 0.0513465 , 0.0590267 , 0.0671439 ,\n",
       "       0.073392  , 0.0802637 , 0.0887954 , 0.0974604 , 0.104807  ,\n",
       "       0.111528  , 0.119688  , 0.128006  , 0.135704  , 0.143491  ,\n",
       "       0.150545  , 0.157608  , 0.165391  , 0.172872  , 0.180039  ,\n",
       "       0.188011  , 0.195215  , 0.202291  , 0.20963   , 0.216895  ,\n",
       "       0.224651  , 0.232139  , 0.23904   , 0.246076  , 0.25422   ,\n",
       "       0.262011  , 0.269681  , 0.276981  , 0.284588  , 0.291835  ,\n",
       "       0.299661  , 0.30727   , 0.314781  , 0.322364  , 0.329404  ,\n",
       "       0.336926  , 0.34438   , 0.352246  , 0.360913  , 0.367336  ,\n",
       "       0.37415   , 0.381556  , 0.388951  , 0.396286  , 0.404159  ,\n",
       "       0.412113  , 0.419194  , 0.426587  , 0.43425   , 0.442316  ,\n",
       "       0.449562  , 0.456538  , 0.465128  , 0.472592  , 0.479882  ,\n",
       "       0.487348  , 0.494634  , 0.502167  , 0.508326  , 0.515086  ,\n",
       "       0.522826  , 0.530643  ])"
      ]
     },
     "execution_count": 71,
     "metadata": {},
     "output_type": "execute_result"
    }
   ],
   "source": [
    "dep.materials['fuel0'].burnup"
   ]
  },
  {
   "cell_type": "code",
   "execution_count": 79,
   "id": "a1cf9c5c",
   "metadata": {},
   "outputs": [
    {
     "data": {
      "text/plain": [
       "array([[0.00000e+00, 2.43591e-09, 4.03796e-09, ..., 4.70133e-09,\n",
       "        4.70023e-09, 4.88855e-09],\n",
       "       [0.00000e+00, 6.06880e-09, 8.11783e-09, ..., 8.05991e-09,\n",
       "        8.96359e-09, 9.28554e-09],\n",
       "       [4.48538e-06, 4.48486e-06, 4.48432e-06, ..., 4.44726e-06,\n",
       "        4.44668e-06, 4.44611e-06],\n",
       "       ...,\n",
       "       [0.00000e+00, 3.03589e-11, 7.38022e-11, ..., 1.62829e-09,\n",
       "        1.63566e-09, 1.64477e-09],\n",
       "       [0.00000e+00, 1.15541e-14, 2.38378e-14, ..., 8.60736e-13,\n",
       "        8.73669e-13, 8.86782e-13],\n",
       "       [6.88332e-02, 6.88334e-02, 6.88336e-02, ..., 6.88455e-02,\n",
       "        6.88457e-02, 6.88459e-02]])"
      ]
     },
     "execution_count": 79,
     "metadata": {},
     "output_type": "execute_result"
    }
   ],
   "source": [
    "dep.materials['fuel0'].adens"
   ]
  },
  {
   "cell_type": "code",
   "execution_count": 59,
   "id": "6f2649a7",
   "metadata": {},
   "outputs": [],
   "source": [
    "stacked_array = np.vstack((dep.materials['fuel0'].burnup, dep.materials['fuel0'].adens))"
   ]
  },
  {
   "cell_type": "code",
   "execution_count": 63,
   "id": "fbb0c768",
   "metadata": {},
   "outputs": [
    {
     "data": {
      "text/plain": [
       "array([ True,  True,  True,  True,  True,  True,  True,  True,  True,\n",
       "        True,  True,  True,  True,  True,  True,  True,  True,  True,\n",
       "        True,  True,  True,  True,  True,  True,  True,  True,  True,\n",
       "        True,  True,  True,  True,  True,  True,  True,  True,  True,\n",
       "        True,  True,  True,  True,  True,  True,  True,  True,  True,\n",
       "        True,  True,  True,  True,  True,  True,  True,  True,  True,\n",
       "        True,  True,  True,  True,  True,  True,  True,  True,  True,\n",
       "        True,  True,  True,  True,  True,  True,  True,  True,  True])"
      ]
     },
     "execution_count": 63,
     "metadata": {},
     "output_type": "execute_result"
    }
   ],
   "source": [
    "stacked_array[0] == dep.materials['fuel0'].burnup"
   ]
  },
  {
   "cell_type": "code",
   "execution_count": 62,
   "id": "3b0c7a53",
   "metadata": {},
   "outputs": [
    {
     "data": {
      "text/plain": [
       "array([[ True,  True,  True, ...,  True,  True,  True],\n",
       "       [ True,  True,  True, ...,  True,  True,  True],\n",
       "       [ True,  True,  True, ...,  True,  True,  True],\n",
       "       ...,\n",
       "       [ True,  True,  True, ...,  True,  True,  True],\n",
       "       [ True,  True,  True, ...,  True,  True,  True],\n",
       "       [ True,  True,  True, ...,  True,  True,  True]])"
      ]
     },
     "execution_count": 62,
     "metadata": {},
     "output_type": "execute_result"
    }
   ],
   "source": [
    "stacked_array[1:] == dep.materials['fuel0'].adens"
   ]
  },
  {
   "cell_type": "code",
   "execution_count": 65,
   "id": "c3f6c585",
   "metadata": {},
   "outputs": [
    {
     "name": "stderr",
     "output_type": "stream",
     "text": [
      "Executing <Task pending name='Task-3' coro=<Kernel.dispatch_queue() running at /home/petarmirceski/repos/floquet_exponents_tutorial/.direnv/python-3.9.10/lib/python3.9/site-packages/ipykernel/kernelbase.py:510> wait_for=<Future pending cb=[<TaskWakeupMethWrapper object at 0x7fef1a40a510>()] created at /home/petarmirceski/repos/floquet_exponents_tutorial/.direnv/python-3.9.10/lib/python3.9/site-packages/tornado/queues.py:248> cb=[IOLoop.add_future.<locals>.<lambda>() at /home/petarmirceski/repos/floquet_exponents_tutorial/.direnv/python-3.9.10/lib/python3.9/site-packages/tornado/ioloop.py:687] created at /home/petarmirceski/repos/floquet_exponents_tutorial/.direnv/python-3.9.10/lib/python3.9/site-packages/tornado/gen.py:874> took 0.205 seconds\n"
     ]
    }
   ],
   "source": [
    "import pandas as pd "
   ]
  },
  {
   "cell_type": "code",
   "execution_count": 66,
   "id": "1ca4ee8e",
   "metadata": {},
   "outputs": [],
   "source": [
    "columns = [i for i in range(stacked_array.shape[1])]"
   ]
  },
  {
   "cell_type": "code",
   "execution_count": 75,
   "id": "dcdead86",
   "metadata": {},
   "outputs": [],
   "source": [
    "df = pd.DataFrame(data=stacked_array, columns=dep.materials['fuel0'].burnup)"
   ]
  },
  {
   "cell_type": "code",
   "execution_count": 77,
   "id": "304cb8db",
   "metadata": {},
   "outputs": [],
   "source": [
    "# Maybe this was the method to expoert to csv df.to_csv(\"file_name.csv\")"
   ]
  },
  {
   "cell_type": "code",
   "execution_count": 98,
   "id": "f56f6065",
   "metadata": {},
   "outputs": [
    {
     "data": {
      "image/png": "[encoded data removed]",
      "text/plain": [
       "<Figure size 640x480 with 1 Axes>"
      ]
     },
     "metadata": {},
     "output_type": "display_data"
    },
    {
     "name": "stderr",
     "output_type": "stream",
     "text": [
      "Executing <Task pending name='Task-3' coro=<Kernel.dispatch_queue() running at /home/petarmirceski/repos/floquet_exponents_tutorial/.direnv/python-3.9.10/lib/python3.9/site-packages/ipykernel/kernelbase.py:510> wait_for=<Future pending cb=[<TaskWakeupMethWrapper object at 0x7fef17c2f150>()] created at /home/petarmirceski/repos/floquet_exponents_tutorial/.direnv/python-3.9.10/lib/python3.9/site-packages/tornado/queues.py:248> cb=[IOLoop.add_future.<locals>.<lambda>() at /home/petarmirceski/repos/floquet_exponents_tutorial/.direnv/python-3.9.10/lib/python3.9/site-packages/tornado/ioloop.py:687] created at /home/petarmirceski/repos/floquet_exponents_tutorial/.direnv/python-3.9.10/lib/python3.9/site-packages/tornado/gen.py:874> took 0.164 seconds\n"
     ]
    }
   ],
   "source": [
    "fuel_0_burnup = dep.materials['fuel0'].burnup\n",
    "atomic_density = dep.materials['fuel0'].adens\n",
    "\n",
    "for row_idx in range(2):\n",
    "    plt.plot(fuel_0_burnup, atomic_density[row_idx])"
   ]
  },
  {
   "cell_type": "code",
   "execution_count": 99,
   "id": "cb5ef04a",
   "metadata": {},
   "outputs": [],
   "source": [
    "matrix = np.array([[1,2],[3,4]])"
   ]
  },
  {
   "cell_type": "code",
   "execution_count": 100,
   "id": "3c0bf772",
   "metadata": {},
   "outputs": [
    {
     "data": {
      "text/plain": [
       "array([[1, 2],\n",
       "       [3, 4]])"
      ]
     },
     "execution_count": 100,
     "metadata": {},
     "output_type": "execute_result"
    }
   ],
   "source": [
    "matrix"
   ]
  }
 ],
 "metadata": {
  "kernelspec": {
   "display_name": "Python 3 (ipykernel)",
   "language": "python",
   "name": "python3"
  },
  "language_info": {
   "codemirror_mode": {
    "name": "ipython",
    "version": 3
   },
   "file_extension": ".py",
   "mimetype": "text/x-python",
   "name": "python",
   "nbconvert_exporter": "python",
   "pygments_lexer": "ipython3",
   "version": "3.9.10"
  }
 },
 "nbformat": 4,
 "nbformat_minor": 5
}
