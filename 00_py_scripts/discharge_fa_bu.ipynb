{
 "cells": [
  {
   "cell_type": "code",
   "execution_count": null,
   "id": "303faf78-45f9-4f18-8a66-6c17c43de8bc",
   "metadata": {},
   "outputs": [],
   "source": [
    "import copy\n",
    "from typing import List\n",
    "from pathlib import Path\n",
    "\n",
    "import numpy as np\n",
    "import pandas as pd\n",
    "import matplotlib.pyplot as plt\n",
    "import serpentTools\n",
    "from serpentTools.parsers.results import ResultsReader\n",
    "\n",
    "serpentTools.settings.rc[\"serpentVersion\"] = \"2.1.32\"\n",
    "\n",
    "BASE_PATH = Path(\"04_natU_SF1bis_680d_99N15_discrete/\")\n",
    "\n",
    "def pathconstructor(index):\n",
    "    return BASE_PATH/f\"wh_lfrsuffleNo{index}/wh_lfr_res.m\"\n",
    "    #return BASE_PATH/f\"wh_lfr_res.m\"\n",
    "\n",
    "res_list = []\n",
    "for index in range(100):\n",
    "    if Path.exists(pathconstructor(index)):\n",
    "        with serpentTools.settings.rc:\n",
    "            serpentTools.settings.rc[\"verbosity\"] = \"error\"\n",
    "            res = serpentTools.read(str(pathconstructor(index)))\n",
    "        res_list.append(res)\n",
    "    \n",
    "res_total = []\n",
    "for res in res_list:\n",
    "    res_total.append(res.resdata)\n",
    "    \n",
    "res_total_complete = copy.deepcopy(res_total[0])\n",
    "for index in range(1,len(res_total)):\n",
    "    for key in res_total[0].keys():\n",
    "        if key == \"absKeff\" or \"absKeff\":\n",
    "            res_bu_sum = res_total[index][key]\n",
    "            res_total_complete[key] = np.vstack((res_total_complete[key], res_bu_sum))"
   ]
  },
  {
   "cell_type": "code",
   "execution_count": 2,
   "id": "3719c96a-cb3d-422a-bba4-3c1ec81f36bc",
   "metadata": {},
   "outputs": [
    {
     "name": "stderr",
     "output_type": "stream",
     "text": [
      "Executing <Task pending coro=<Kernel.poll_control_queue() running at /misc/home/stalex/01_work/01_wh_lfr/.direnv/python-3.7.13/lib/python3.7/site-packages/ipykernel/kernelbase.py:279> wait_for=<Future pending cb=[<TaskWakeupMethWrapper object at 0x2b0a514edb40>()] created at /misc/home/stalex/01_work/01_wh_lfr/.direnv/python-3.7.13/lib/python3.7/site-packages/tornado/queues.py:248> cb=[_chain_future.<locals>._call_set_state() at /home/stalex/.pyenv/versions/3.7.13/lib/python3.7/asyncio/futures.py:358] created at /home/stalex/.pyenv/versions/3.7.13/lib/python3.7/asyncio/tasks.py:840> took 0.367 seconds\n",
      "Executing <Handle BaseAsyncIOLoop._handle_events(43, 1) created at /home/stalex/.pyenv/versions/3.7.13/lib/python3.7/asyncio/selector_events.py:254> took 0.364 seconds\n",
      "Executing <Handle IOLoop._run_callback(functools.par...2b0a683bd3d0>)) created at /misc/home/stalex/01_work/01_wh_lfr/.direnv/python-3.7.13/lib/python3.7/site-packages/tornado/platform/asyncio.py:247> took 0.279 seconds\n",
      "Executing <Task pending coro=<Kernel.poll_control_queue() running at /misc/home/stalex/01_work/01_wh_lfr/.direnv/python-3.7.13/lib/python3.7/site-packages/ipykernel/kernelbase.py:279> wait_for=<Future pending cb=[<TaskWakeupMethWrapper object at 0x2b0a6b048d20>()] created at /misc/home/stalex/01_work/01_wh_lfr/.direnv/python-3.7.13/lib/python3.7/site-packages/tornado/queues.py:248> cb=[_chain_future.<locals>._call_set_state() at /home/stalex/.pyenv/versions/3.7.13/lib/python3.7/asyncio/futures.py:358] created at /home/stalex/.pyenv/versions/3.7.13/lib/python3.7/asyncio/tasks.py:840> took 0.736 seconds\n",
      "Executing <Handle IOLoop._run_callback(functools.par...2b0a683bd3d0>)) created at /misc/home/stalex/01_work/01_wh_lfr/.direnv/python-3.7.13/lib/python3.7/site-packages/tornado/platform/asyncio.py:247> took 0.342 seconds\n",
      "Executing <Handle IOLoop._run_callback(functools.par...2b0a7a106110>)) created at /misc/home/stalex/01_work/01_wh_lfr/.direnv/python-3.7.13/lib/python3.7/site-packages/tornado/platform/asyncio.py:247> took 0.305 seconds\n",
      "Executing <Task pending coro=<Kernel.poll_control_queue() running at /misc/home/stalex/01_work/01_wh_lfr/.direnv/python-3.7.13/lib/python3.7/site-packages/ipykernel/kernelbase.py:279> wait_for=<Future pending cb=[<TaskWakeupMethWrapper object at 0x2b0a7a340fc0>()] created at /misc/home/stalex/01_work/01_wh_lfr/.direnv/python-3.7.13/lib/python3.7/site-packages/tornado/queues.py:248> cb=[_chain_future.<locals>._call_set_state() at /home/stalex/.pyenv/versions/3.7.13/lib/python3.7/asyncio/futures.py:358] created at /home/stalex/.pyenv/versions/3.7.13/lib/python3.7/asyncio/tasks.py:840> took 0.373 seconds\n",
      "IOStream.flush timed out\n",
      "Executing <Handle IOLoop._run_callback(functools.par...2b0a6834bf80>)) created at /misc/home/stalex/01_work/01_wh_lfr/.direnv/python-3.7.13/lib/python3.7/site-packages/tornado/platform/asyncio.py:247> took 0.365 seconds\n"
     ]
    }
   ],
   "source": [
    "#######################################################################\n",
    "def pathconstructor_dep(index):\n",
    "    return BASE_PATH/f\"wh_lfrsuffleNo{index}/wh_lfr_dep.m\"        \n",
    "\n",
    "dep_list = []\n",
    "for index in range(100):\n",
    "    if Path.exists(pathconstructor_dep(index)):\n",
    "        with serpentTools.settings.rc:\n",
    "            serpentTools.settings.rc[\"verbosity\"] = \"error\"\n",
    "        dep = serpentTools.read(str(pathconstructor_dep(index)))\n",
    "        dep_list.append(dep)"
   ]
  },
  {
   "cell_type": "code",
   "execution_count": 18,
   "id": "df2501e5-e2e3-45d9-bdbf-007eb09e2c23",
   "metadata": {},
   "outputs": [],
   "source": [
    "dep_total_meta = []\n",
    "dep_total_materials = []\n",
    "for dep in dep_list:\n",
    "    dep_total_meta.append(dep.metadata)\n",
    "    dep_total_materials.append(dep.materials)"
   ]
  },
  {
   "cell_type": "code",
   "execution_count": null,
   "id": "67e7d4f3-56e9-448a-aa65-4e21582fc970",
   "metadata": {},
   "outputs": [],
   "source": [
    "dep_total_materials"
   ]
  },
  {
   "cell_type": "code",
   "execution_count": 23,
   "id": "94e1be42-df35-43e5-b55e-a0e53f68c8e9",
   "metadata": {},
   "outputs": [
    {
     "ename": "AttributeError",
     "evalue": "'list' object has no attribute 'materials'",
     "output_type": "error",
     "traceback": [
      "\u001b[0;31m---------------------------------------------------------------------------\u001b[0m",
      "\u001b[0;31mAttributeError\u001b[0m                            Traceback (most recent call last)",
      "\u001b[0;32m/tmp/ipykernel_19776/1296520536.py\u001b[0m in \u001b[0;36m<module>\u001b[0;34m\u001b[0m\n\u001b[0;32m----> 1\u001b[0;31m \u001b[0mdep_total_materials\u001b[0m\u001b[0;34m.\u001b[0m\u001b[0mmaterials\u001b[0m\u001b[0;34m[\u001b[0m\u001b[0;34m'fuelP48Z1'\u001b[0m\u001b[0;34m]\u001b[0m\u001b[0;34m.\u001b[0m\u001b[0mdata\u001b[0m\u001b[0;34m.\u001b[0m\u001b[0mkeys\u001b[0m\u001b[0;34m(\u001b[0m\u001b[0;34m)\u001b[0m\u001b[0;34m\u001b[0m\u001b[0;34m\u001b[0m\u001b[0m\n\u001b[0m",
      "\u001b[0;31mAttributeError\u001b[0m: 'list' object has no attribute 'materials'"
     ]
    }
   ],
   "source": [
    "dep_total_materials.materials['fuelP48Z1'].data.keys()"
   ]
  },
  {
   "cell_type": "code",
   "execution_count": null,
   "id": "8680cc75-553e-49c1-8a61-062e6cbe85e9",
   "metadata": {},
   "outputs": [],
   "source": [
    "dep.materials['fuelP48Z1'].burnup"
   ]
  },
  {
   "cell_type": "code",
   "execution_count": 5,
   "id": "2a978f38-bf42-4bd0-bb57-0b720a7c173e",
   "metadata": {},
   "outputs": [
    {
     "data": {
      "text/plain": [
       "array([[1.43946e+09],\n",
       "       [3.44242e+12],\n",
       "       [1.25736e+12]])"
      ]
     },
     "execution_count": 5,
     "metadata": {},
     "output_type": "execute_result"
    }
   ],
   "source": [
    "dayPoints = [680]\n",
    "iso = ['U238', 'Pu239', 'Pu241']\n",
    "zai = [922380, 942390, 942410]\n",
    "dep.materials['fuelP48Z1'].getValues('days', 'a', dayPoints, iso)"
   ]
  },
  {
   "cell_type": "code",
   "execution_count": null,
   "id": "9a81b571-7c89-4983-93c8-4e1d3ef9ab4e",
   "metadata": {},
   "outputs": [],
   "source": []
  }
 ],
 "metadata": {
  "kernelspec": {
   "display_name": "Python 3 (ipykernel)",
   "language": "python",
   "name": "python3"
  },
  "language_info": {
   "codemirror_mode": {
    "name": "ipython",
    "version": 3
   },
   "file_extension": ".py",
   "mimetype": "text/x-python",
   "name": "python",
   "nbconvert_exporter": "python",
   "pygments_lexer": "ipython3",
   "version": "3.7.13"
  }
 },
 "nbformat": 4,
 "nbformat_minor": 5
}
