{
 "cells": [
  {
   "cell_type": "code",
   "execution_count": 1,
   "id": "303faf78-45f9-4f18-8a66-6c17c43de8bc",
   "metadata": {},
   "outputs": [
    {
     "ename": "IndexError",
     "evalue": "list index out of range",
     "output_type": "error",
     "traceback": [
      "\u001b[0;31m---------------------------------------------------------------------------\u001b[0m",
      "\u001b[0;31mIndexError\u001b[0m                                Traceback (most recent call last)",
      "\u001b[0;32m/tmp/ipykernel_766/1963516301.py\u001b[0m in \u001b[0;36m<module>\u001b[0;34m\u001b[0m\n\u001b[1;32m     29\u001b[0m     \u001b[0mres_total\u001b[0m\u001b[0;34m.\u001b[0m\u001b[0mappend\u001b[0m\u001b[0;34m(\u001b[0m\u001b[0mres\u001b[0m\u001b[0;34m.\u001b[0m\u001b[0mresdata\u001b[0m\u001b[0;34m)\u001b[0m\u001b[0;34m\u001b[0m\u001b[0;34m\u001b[0m\u001b[0m\n\u001b[1;32m     30\u001b[0m \u001b[0;34m\u001b[0m\u001b[0m\n\u001b[0;32m---> 31\u001b[0;31m \u001b[0mres_total_complete\u001b[0m \u001b[0;34m=\u001b[0m \u001b[0mcopy\u001b[0m\u001b[0;34m.\u001b[0m\u001b[0mdeepcopy\u001b[0m\u001b[0;34m(\u001b[0m\u001b[0mres_total\u001b[0m\u001b[0;34m[\u001b[0m\u001b[0;36m0\u001b[0m\u001b[0;34m]\u001b[0m\u001b[0;34m)\u001b[0m\u001b[0;34m\u001b[0m\u001b[0;34m\u001b[0m\u001b[0m\n\u001b[0m\u001b[1;32m     32\u001b[0m \u001b[0;32mfor\u001b[0m \u001b[0mindex\u001b[0m \u001b[0;32min\u001b[0m \u001b[0mrange\u001b[0m\u001b[0;34m(\u001b[0m\u001b[0;36m1\u001b[0m\u001b[0;34m,\u001b[0m\u001b[0mlen\u001b[0m\u001b[0;34m(\u001b[0m\u001b[0mres_total\u001b[0m\u001b[0;34m)\u001b[0m\u001b[0;34m)\u001b[0m\u001b[0;34m:\u001b[0m\u001b[0;34m\u001b[0m\u001b[0;34m\u001b[0m\u001b[0m\n\u001b[1;32m     33\u001b[0m     \u001b[0;32mfor\u001b[0m \u001b[0mkey\u001b[0m \u001b[0;32min\u001b[0m \u001b[0mres_total\u001b[0m\u001b[0;34m[\u001b[0m\u001b[0;36m0\u001b[0m\u001b[0;34m]\u001b[0m\u001b[0;34m.\u001b[0m\u001b[0mkeys\u001b[0m\u001b[0;34m(\u001b[0m\u001b[0;34m)\u001b[0m\u001b[0;34m:\u001b[0m\u001b[0;34m\u001b[0m\u001b[0;34m\u001b[0m\u001b[0m\n",
      "\u001b[0;31mIndexError\u001b[0m: list index out of range"
     ]
    },
    {
     "name": "stderr",
     "output_type": "stream",
     "text": [
      "Executing <Task pending coro=<Kernel.dispatch_queue() running at /home/stalex/01_work/.direnv/python-3.7.13/lib/python3.7/site-packages/ipykernel/kernelbase.py:510> wait_for=<Future pending cb=[<TaskWakeupMethWrapper object at 0x7f66330ffea0>()] created at /home/stalex/01_work/.direnv/python-3.7.13/lib/python3.7/site-packages/tornado/queues.py:248> cb=[IOLoop.add_future.<locals>.<lambda>() at /home/stalex/01_work/.direnv/python-3.7.13/lib/python3.7/site-packages/tornado/ioloop.py:687] created at /home/stalex/01_work/.direnv/python-3.7.13/lib/python3.7/site-packages/tornado/gen.py:874> took 1.295 seconds\n"
     ]
    }
   ],
   "source": [
    "import copy\n",
    "from typing import List\n",
    "from pathlib import Path\n",
    "\n",
    "import numpy as np\n",
    "import pandas as pd\n",
    "import matplotlib.pyplot as plt\n",
    "import serpentTools\n",
    "from serpentTools.parsers.results import ResultsReader\n",
    "\n",
    "serpentTools.settings.rc[\"serpentVersion\"] = \"2.1.32\"\n",
    "\n",
    "BASE_PATH = Path(\"04_natU_SF1bis_680d_99N15_discrete/\")\n",
    "\n",
    "def pathconstructor(index):\n",
    "    return BASE_PATH/f\"wh_lfrsuffleNo{index}/wh_lfr_res.m\"\n",
    "    #return BASE_PATH/f\"wh_lfr_res.m\"\n",
    "\n",
    "res_list = []\n",
    "for index in range(100):\n",
    "    if Path.exists(pathconstructor(index)):\n",
    "        with serpentTools.settings.rc:\n",
    "            serpentTools.settings.rc[\"verbosity\"] = \"error\"\n",
    "            res = serpentTools.read(str(pathconstructor(index)))\n",
    "        res_list.append(res)\n",
    "    \n",
    "res_total = []\n",
    "for res in res_list:\n",
    "    res_total.append(res.resdata)\n",
    "    \n",
    "res_total_complete = copy.deepcopy(res_total[0])\n",
    "for index in range(1,len(res_total)):\n",
    "    for key in res_total[0].keys():\n",
    "        if key == \"absKeff\" or \"absKeff\":\n",
    "            res_bu_sum = res_total[index][key]\n",
    "            res_total_complete[key] = np.vstack((res_total_complete[key], res_bu_sum))"
   ]
  },
  {
   "cell_type": "code",
   "execution_count": null,
   "id": "3719c96a-cb3d-422a-bba4-3c1ec81f36bc",
   "metadata": {},
   "outputs": [],
   "source": [
    "#######################################################################\n",
    "def pathconstructor_dep(index):\n",
    "    return BASE_PATH/f\"wh_lfrsuffleNo{index}/wh_lfr_dep.m\"        \n",
    "\n",
    "dep_list = []\n",
    "for index in range(100):\n",
    "    if Path.exists(pathconstructor_dep(index)):\n",
    "        with serpentTools.settings.rc:\n",
    "            serpentTools.settings.rc[\"verbosity\"] = \"error\"\n",
    "        dep = serpentTools.read(str(pathconstructor_dep(index)))\n",
    "        dep_list.append(dep)"
   ]
  },
  {
   "cell_type": "code",
   "execution_count": null,
   "id": "df2501e5-e2e3-45d9-bdbf-007eb09e2c23",
   "metadata": {},
   "outputs": [],
   "source": [
    "dep_total_meta = []\n",
    "dep_total_materials = []\n",
    "for dep in dep_list:\n",
    "    dep_total_meta.append(dep.metadata)\n",
    "    dep_total_materials.append(dep.materials)"
   ]
  },
  {
   "cell_type": "code",
   "execution_count": null,
   "id": "67e7d4f3-56e9-448a-aa65-4e21582fc970",
   "metadata": {},
   "outputs": [],
   "source": [
    "dep_total_materials"
   ]
  },
  {
   "cell_type": "code",
   "execution_count": null,
   "id": "94e1be42-df35-43e5-b55e-a0e53f68c8e9",
   "metadata": {},
   "outputs": [],
   "source": [
    "dep_total_materials.materials['fuelP48Z1'].data.keys()"
   ]
  },
  {
   "cell_type": "code",
   "execution_count": null,
   "id": "8680cc75-553e-49c1-8a61-062e6cbe85e9",
   "metadata": {},
   "outputs": [],
   "source": [
    "dep.materials['fuelP48Z1'].burnup"
   ]
  },
  {
   "cell_type": "code",
   "execution_count": null,
   "id": "2a978f38-bf42-4bd0-bb57-0b720a7c173e",
   "metadata": {},
   "outputs": [],
   "source": [
    "dayPoints = [680]\n",
    "iso = ['U238', 'Pu239', 'Pu241']\n",
    "zai = [922380, 942390, 942410]\n",
    "dep.materials['fuelP48Z1'].getValues('days', 'a', dayPoints, iso)"
   ]
  }
 ],
 "metadata": {
  "kernelspec": {
   "display_name": "python-3.7.13",
   "language": "python",
   "name": "python3"
  },
  "language_info": {
   "codemirror_mode": {
    "name": "ipython",
    "version": 3
   },
   "file_extension": ".py",
   "mimetype": "text/x-python",
   "name": "python",
   "nbconvert_exporter": "python",
   "pygments_lexer": "ipython3",
   "version": "3.7.13"
  },
  "vscode": {
   "interpreter": {
    "hash": "f742b9202e4884cd899e17e5d19405dbf1f59133aab83d737ae499aeeab8bb35"
   }
  }
 },
 "nbformat": 4,
 "nbformat_minor": 5
}
