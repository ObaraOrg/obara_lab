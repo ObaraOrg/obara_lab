{
 "cells": [
  {
   "cell_type": "code",
   "execution_count": null,
   "id": "303faf78-45f9-4f18-8a66-6c17c43de8bc",
   "metadata": {},
   "outputs": [],
   "source": [
    "import copy\n",
    "from typing import List\n",
    "from pathlib import Path\n",
    "\n",
    "import numpy as np\n",
    "import pandas as pd\n",
    "import matplotlib.pyplot as plt\n",
    "import serpentTools\n",
    "from serpentTools.parsers.results import ResultsReader\n",
    "\n",
    "serpentTools.settings.rc[\"serpentVersion\"] = \"2.1.32\"\n",
    "\n",
    "BASE_PATH = Path(\"04_natU_SF1bis_680d_99N15_discrete/\")\n",
    "\n",
    "def pathconstructor(index):\n",
    "    return BASE_PATH/f\"wh_lfrsuffleNo{index}/wh_lfr_res.m\"\n",
    "    #return BASE_PATH/f\"wh_lfr_res.m\"\n",
    "\n",
    "res_list = []\n",
    "for index in range(100):\n",
    "    if Path.exists(pathconstructor(index)):\n",
    "        with serpentTools.settings.rc:\n",
    "            serpentTools.settings.rc[\"verbosity\"] = \"error\"\n",
    "            res = serpentTools.read(str(pathconstructor(index)))\n",
    "        res_list.append(res)\n",
    "    \n",
    "res_total = []\n",
    "for res in res_list:\n",
    "    res_total.append(res.resdata)\n",
    "    \n",
    "res_total_complete = copy.deepcopy(res_total[0])\n",
    "for index in range(1,len(res_total)):\n",
    "    for key in res_total[0].keys():\n",
    "        if key == \"absKeff\" or \"absKeff\":\n",
    "            res_bu_sum = res_total[index][key]\n",
    "            res_total_complete[key] = np.vstack((res_total_complete[key], res_bu_sum))"
   ]
  },
  {
   "cell_type": "code",
   "execution_count": null,
   "id": "3719c96a-cb3d-422a-bba4-3c1ec81f36bc",
   "metadata": {},
   "outputs": [],
   "source": [
    "#######################################################################\n",
    "def pathconstructor_dep(index):\n",
    "    return BASE_PATH/f\"wh_lfrsuffleNo{index}/wh_lfr_dep.m\"        \n",
    "\n",
    "dep_list = []\n",
    "for index in range(100):\n",
    "    if Path.exists(pathconstructor_dep(index)):\n",
    "        with serpentTools.settings.rc:\n",
    "            serpentTools.settings.rc[\"verbosity\"] = \"error\"\n",
    "        dep = serpentTools.read(str(pathconstructor_dep(index)))\n",
    "        dep_list.append(dep)"
   ]
  },
  {
   "cell_type": "code",
   "execution_count": null,
   "id": "df2501e5-e2e3-45d9-bdbf-007eb09e2c23",
   "metadata": {},
   "outputs": [],
   "source": [
    "dep_total_meta = []\n",
    "dep_total_materials = []\n",
    "for dep in dep_list:\n",
    "    dep_total_meta.append(dep.metadata)\n",
    "    dep_total_materials.append(dep.materials)"
   ]
  },
  {
   "cell_type": "code",
   "execution_count": null,
   "id": "67e7d4f3-56e9-448a-aa65-4e21582fc970",
   "metadata": {},
   "outputs": [],
   "source": [
    "dep_total_materials"
   ]
  },
  {
   "cell_type": "code",
   "execution_count": null,
   "id": "94e1be42-df35-43e5-b55e-a0e53f68c8e9",
   "metadata": {},
   "outputs": [],
   "source": [
    "dep_total_materials.materials['fuelP48Z1'].data.keys()"
   ]
  },
  {
   "cell_type": "code",
   "execution_count": null,
   "id": "8680cc75-553e-49c1-8a61-062e6cbe85e9",
   "metadata": {},
   "outputs": [],
   "source": [
    "dep.materials['fuelP48Z1'].burnup"
   ]
  },
  {
   "cell_type": "code",
   "execution_count": null,
   "id": "2a978f38-bf42-4bd0-bb57-0b720a7c173e",
   "metadata": {},
   "outputs": [],
   "source": [
    "dayPoints = [680]\n",
    "iso = ['U238', 'Pu239', 'Pu241']\n",
    "zai = [922380, 942390, 942410]\n",
    "dep.materials['fuelP48Z1'].getValues('days', 'a', dayPoints, iso)"
   ]
  }
 ],
 "metadata": {
  "kernelspec": {
   "display_name": "Python 3",
   "language": "python",
   "name": "python3"
  },
  "language_info": {
   "codemirror_mode": {
    "name": "ipython",
    "version": 3
   },
   "file_extension": ".py",
   "mimetype": "text/x-python",
   "name": "python",
   "nbconvert_exporter": "python",
   "pygments_lexer": "ipython3",
   "version": "3.7.13 (default, Jul 19 2022, 21:43:09) \n[GCC 9.4.0]"
  },
  "vscode": {
   "interpreter": {
    "hash": "7900ab82b5e346e353598763d1172d6b113aedb478c93350e2940544e5327b42"
   }
  }
 },
 "nbformat": 4,
 "nbformat_minor": 5
}
