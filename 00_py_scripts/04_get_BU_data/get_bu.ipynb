{
 "cells": [
  {
   "cell_type": "code",
   "execution_count": 4,
   "id": "303faf78-45f9-4f18-8a66-6c17c43de8bc",
   "metadata": {},
   "outputs": [
    {
     "name": "stderr",
     "output_type": "stream",
     "text": [
      "Executing <Task pending coro=<Kernel.dispatch_queue() running at /home/stalex/repos/01_wh_lfr/.direnv/python-3.7.13/lib/python3.7/site-packages/ipykernel/kernelbase.py:510> wait_for=<Future pending cb=[<TaskWakeupMethWrapper object at 0x7f5437431540>()] created at /home/stalex/repos/01_wh_lfr/.direnv/python-3.7.13/lib/python3.7/site-packages/tornado/queues.py:248> cb=[IOLoop.add_future.<locals>.<lambda>() at /home/stalex/repos/01_wh_lfr/.direnv/python-3.7.13/lib/python3.7/site-packages/tornado/ioloop.py:687] created at /home/stalex/repos/01_wh_lfr/.direnv/python-3.7.13/lib/python3.7/site-packages/tornado/gen.py:874> took 1.124 seconds\n"
     ]
    }
   ],
   "source": [
    "import pathlib\n",
    "from pathlib import Path\n",
    "from typing import List, Tuple, Union\n",
    "import copy\n",
    "import numpy as np\n",
    "import matplotlib.pyplot as plt\n",
    "import serpentTools\n",
    "from serpentTools.parsers.results import ResultsReader\n",
    "import click\n",
    "import matplotlib.pyplot as plt\n",
    "\n",
    "serpentTools.settings.rc[\"serpentVersion\"] = \"2.1.32\"\n",
    "\n",
    "\n",
    "AV = 0,6221408E+24\n",
    "\n",
    "\n",
    "def discharge_bu() -> None:\n",
    "    res_list = []\n",
    "\n",
    "    with serpentTools.settings.rc:\n",
    "        serpentTools.settings.rc[\"verbosity\"] = \"error\"\n",
    "    dep = serpentTools.read(\"wh_lfr_dep.m\")\n",
    "    \n",
    "    return dep\n",
    "\n",
    "if __name__ == \"__main__\":\n",
    "    dep = discharge_bu()\n"
   ]
  },
  {
   "cell_type": "code",
   "execution_count": null,
   "id": "3a3f50d8",
   "metadata": {},
   "outputs": [],
   "source": [
    "#print(dep.materials[\"fuelP1Z1\"].mdens[:,3][:38])\n",
    "#print(len(dep.materials[\"fuelP1Z1\"].mdens[:,3][:38]))\n",
    "print(dep.names[:39])\n",
    "m_dens = dep.materials[\"fuelP1Z1\"].mdens[:,3][:39]\n",
    "names = np.array(dep.names[:39])\n",
    "print(names)\n",
    "print(m_dens)\n",
    "print(np.vstack((names,m_dens)))\n",
    "\n",
    "\n"
   ]
  },
  {
   "cell_type": "code",
   "execution_count": 19,
   "id": "df807092",
   "metadata": {},
   "outputs": [],
   "source": [
    "P = 48 #max no of FA\n",
    "Z = 6  #max no of slices\n",
    "\n",
    "last_bu_step = len(dep.burnup) - 1\n",
    "max_list_HM = np.where(np.char.find(dep.names, \"Cm250\") == 0)[0][0] + 1\n",
    "\n",
    "# Gets the correction ration for FA\n",
    "c_ratio = []\n",
    "name_list = []\n",
    "serpent_bu = []\n",
    "corrected_bu = []\n",
    "\n",
    "step = 0\n",
    "\n",
    "for poz in range(1, P+1):\n",
    "    for slice in range(1, Z+1):\n",
    "        fa_name = f\"fuelP{poz}Z{slice}\"\n",
    "        fa1_name = f\"fuelP1Z{slice}\"\n",
    "\n",
    "        sum_hm = np.sum(dep.materials[fa_name].mdens[: ,last_bu_step][:max_list_HM])\n",
    "        sum_hm_fa1 = np.sum(dep.materials[fa1_name].mdens[: ,last_bu_step][:max_list_HM])\n",
    "        ratio_i = sum_hm/sum_hm_fa1\n",
    "\n",
    "        c_ratio.append(ratio_i)\n",
    "        name_list.append(fa_name)\n",
    "\n",
    "        \n",
    "        serpent_bu.append(dep.materials[fa_name].burnup[last_bu_step])\n",
    "\n",
    "        #print(step)\n",
    "        if step <= 5:\n",
    "            #print(\"FA1\")\n",
    "            corrected_bu.append(dep.materials[fa1_name].burnup[last_bu_step])\n",
    "        else:    \n",
    "            #print(\"FAn\")\n",
    "            fa_c_bu = dep.materials[fa_name].burnup[last_bu_step] * c_ratio[step-6]\n",
    "            #print(c_ratio[step-6])\n",
    "            corrected_bu.append(fa_c_bu)\n",
    "\n",
    "        \n",
    "\n",
    "        step += 1\n",
    "\n",
    "#np.vstack((name_list,c_ratio))\n",
    "#print(len(corrected_bu))\n",
    "#print(corrected_bu)\n",
    "\n"
   ]
  },
  {
   "cell_type": "code",
   "execution_count": 21,
   "id": "b549760f",
   "metadata": {},
   "outputs": [
    {
     "data": {
      "text/plain": [
       "list"
      ]
     },
     "execution_count": 21,
     "metadata": {},
     "output_type": "execute_result"
    }
   ],
   "source": [
    "type(serpent_bu)\n"
   ]
  }
 ],
 "metadata": {
  "kernelspec": {
   "display_name": "Python 3.7.13 ('python-3.7.13': venv)",
   "language": "python",
   "name": "python3"
  },
  "language_info": {
   "codemirror_mode": {
    "name": "ipython",
    "version": 3
   },
   "file_extension": ".py",
   "mimetype": "text/x-python",
   "name": "python",
   "nbconvert_exporter": "python",
   "pygments_lexer": "ipython3",
   "version": "3.7.13"
  },
  "vscode": {
   "interpreter": {
    "hash": "a3555c87b49629362fabc3362130a878e1af7e8f15ed123867dbaf9165c66537"
   }
  }
 },
 "nbformat": 4,
 "nbformat_minor": 5
}
