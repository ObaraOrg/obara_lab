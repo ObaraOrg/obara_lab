{
 "cells": [
  {
   "cell_type": "code",
   "execution_count": 3,
   "id": "303faf78-45f9-4f18-8a66-6c17c43de8bc",
   "metadata": {},
   "outputs": [],
   "source": [
    "#import pathlib\n",
    "from pathlib import Path\n",
    "from typing import List, Tuple, Union\n",
    "import csv\n",
    "#import copy\n",
    "import numpy as np\n",
    "#import matplotlib.pyplot as plt\n",
    "import serpentTools\n",
    "from serpentTools.parsers.results import ResultsReader\n",
    "#import click\n",
    "#import matplotlib.pyplot as plt\n",
    "\n",
    "serpentTools.settings.rc[\"serpentVersion\"] = \"2.1.32\"\n",
    "P = 48 #max no of FA\n",
    "Z = 6  #max no of slices\n",
    "\n",
    "AV = 0.6221408E+24\n",
    "\n",
    "# get atomic wt numbers, store in atomic_wt_dict\n",
    "with open(\"isotope_awt_list.csv\", mode='r') as infile:\n",
    "    reader = csv.reader(infile)\n",
    "    with open('coors_new.csv', mode='w') as outfile:\n",
    "        writer = csv.writer(outfile)\n",
    "        atomic_wt_dict = {rows[0]:rows[1] for rows in reader}\n",
    "\n",
    "\n",
    "def discharge_bu() -> None:\n",
    "    res_list = []\n",
    "\n",
    "    with serpentTools.settings.rc:\n",
    "        serpentTools.settings.rc[\"verbosity\"] = \"error\"\n",
    "    dep = serpentTools.read(\"wh_lfr_dep.m\")\n",
    "    \n",
    "    return dep\n",
    "\n",
    "dep = discharge_bu()\n",
    "\n",
    "\n",
    "def split_name(name: str)->Tuple[int, int]:\n",
    "    \"\"\"The functions take a fuel name, separates the P and Z and takes out the indexes\n",
    "        Note: It s made only for this specific nomeclature, needs modification if you \n",
    "        want more fancy names\n",
    "\n",
    "    Args:\n",
    "        name (str): Takes in a standard fuel position name \"fuelPxxxZxxx\"\n",
    "\n",
    "    Returns:\n",
    "        Tuple[int, int]: Gives out a tuple with the val of P and Z\n",
    "    \"\"\"\n",
    "    without_fuel = name[4:]\n",
    "    split_without_fuel  = without_fuel.split(\"Z\")\n",
    "    p_num = int(split_without_fuel[0][1:])\n",
    "    z_num = int(split_without_fuel[1])\n",
    "    return p_num, z_num"
   ]
  },
  {
   "cell_type": "markdown",
   "id": "c3846d76",
   "metadata": {},
   "source": [
    "### NEW VERSION"
   ]
  },
  {
   "cell_type": "markdown",
   "id": "7460e6a0",
   "metadata": {},
   "source": [
    "#### This is the part to be used inside the run to get the right _dep.m file\n",
    "\n",
    "set inventory\t\t\t% - Sets inventory for dep.m file \n",
    "\n",
    "Th-227 Th-228 Th-229 Th-230 Th-231 Th-232 Th-233 Th-234\n",
    "Pa-231 Pa-232 Pa-233\n",
    "U-232  U-233  U-234  U-235  U-236  U-237  U-238  U-239  U-240  U-241 \n",
    "Np-235 Np-236 Np-237 Np-238 Np-239\n",
    "Pu-236 Pu-237 Pu-238 Pu-239 Pu-240 Pu-241 Pu-242 Pu-243 Pu-244\n",
    "Am-241 Am-242 Am-242m Am-243 Am-244 Am-244m \n",
    "Cm-240 Cm-241 Cm-242 Cm-243 Cm-244 Cm-245 Cm-246 Cm-247 Cm-248 Cm-249 Cm-250\n",
    "\n",
    "Th Pa U Np Pu Am Cm\t\t\t% - total list"
   ]
  },
  {
   "cell_type": "code",
   "execution_count": 4,
   "id": "300d064d",
   "metadata": {},
   "outputs": [
    {
     "name": "stderr",
     "output_type": "stream",
     "text": [
      "Executing <Task pending coro=<Kernel.dispatch_queue() running at /home/stalex/repos/01_wh_lfr/.direnv/python-3.7.13/lib/python3.7/site-packages/ipykernel/kernelbase.py:510> wait_for=<Future pending cb=[<TaskWakeupMethWrapper object at 0x7f6413ff6ae0>()] created at /home/stalex/repos/01_wh_lfr/.direnv/python-3.7.13/lib/python3.7/site-packages/tornado/queues.py:248> cb=[IOLoop.add_future.<locals>.<lambda>() at /home/stalex/repos/01_wh_lfr/.direnv/python-3.7.13/lib/python3.7/site-packages/tornado/ioloop.py:687] created at /home/stalex/repos/01_wh_lfr/.direnv/python-3.7.13/lib/python3.7/site-packages/tornado/gen.py:874> took 1.092 seconds\n"
     ]
    }
   ],
   "source": [
    "materials = dep.materials.keys()\n",
    "#create my own dict with fuel vol's\n",
    "fuel_vol_dict = {}\n",
    "\n",
    "# Go through each material index\n",
    "for fuel_vol in materials:\n",
    "    if fuel_vol == \"total\":\n",
    "        # The continue, skips the loop interation at that point\n",
    "        continue\n",
    "    # Add the materials until 52 pos, exclude the total ones, big total and lost (maybe there is some way more intuitive)\n",
    "    # Last column (last BU step in sss2) is taken and summed up for each fuel volume, store in dic wth key mdens_sum\n",
    "    fuel_vol_dict[fuel_vol] = {\"mdens_sum\": dep.materials[fuel_vol].mdens[:, -1][0:52].sum(), \"serpent_burnup\": dep.materials[fuel_vol].burnup[-1]}\n",
    "\n",
    "for fuel_vol in fuel_vol_dict:\n",
    "    p_index, z_index = split_name(str(fuel_vol))\n",
    "    mdens_to_divide_key = f\"fuelP1Z{z_index}\"\n",
    "    mdens_to_divide = dep.materials[mdens_to_divide_key].mdens[:, -1][0:52].sum()\n",
    "    ratio = fuel_vol_dict[fuel_vol][\"mdens_sum\"] / mdens_to_divide\n",
    "    fuel_vol_dict[fuel_vol][\"mdens_ratio\"] = ratio\n",
    "    #print(ratio)\n",
    "\n",
    "for fuel_vol in fuel_vol_dict.keys():\n",
    "    p_index, z_index = split_name(fuel_vol)\n",
    "    burn_up = fuel_vol_dict[fuel_vol][\"serpent_burnup\"]\n",
    "    #print(burn_up)\n",
    "    if p_index == 1:\n",
    "        fuel_vol_dict[fuel_vol][\"corrected_burnup\"] = burn_up\n",
    "        continue\n",
    "    \n",
    "    material_name = f\"fuelP{p_index - 1}Z{z_index}\"\n",
    "    ratio = fuel_vol_dict[material_name][\"mdens_ratio\"]\n",
    "    corrected_burnup = burn_up * ratio\n",
    "    fuel_vol_dict[fuel_vol][\"corrected_burnup\"] = corrected_burnup\n",
    "\n",
    "average_burnups = {}\n",
    "for fuel_vol in fuel_vol_dict.keys():\n",
    "    p_index, _ = split_name(fuel_vol)\n",
    "    average_burnup = 0\n",
    "    for zidx in range(1 , Z + 1):\n",
    "        key_construct = f\"fuelP{p_index}Z{zidx}\"\n",
    "        average_burnup += fuel_vol_dict[key_construct][\"corrected_burnup\"] / Z\n",
    "    average_burnups[f\"P{p_index}\"] = average_burnup\n",
    "\n",
    "average_burnups_axial = {}\n",
    "for fuel_vol in fuel_vol_dict.keys():\n",
    "    _, z_index = split_name(fuel_vol)\n",
    "    average_axial_burnup = 0\n",
    "    for pidx in range(1 , P + 1):\n",
    "        key_construct = f\"fuelP{pidx}Z{z_index}\"\n",
    "        average_axial_burnup += fuel_vol_dict[key_construct][\"corrected_burnup\"]\n",
    "    average_burnups_axial[f\"Z{z_index}\"] = average_axial_burnup\n"
   ]
  },
  {
   "cell_type": "code",
   "execution_count": 5,
   "id": "7472b35b",
   "metadata": {},
   "outputs": [
    {
     "data": {
      "text/plain": [
       "{'Z1': 81.46520405843272,\n",
       " 'Z2': 216.33793075365776,\n",
       " 'Z3': 313.28412809224216,\n",
       " 'Z4': 312.489616482833,\n",
       " 'Z5': 215.53165120372307,\n",
       " 'Z6': 81.54178152806843}"
      ]
     },
     "execution_count": 5,
     "metadata": {},
     "output_type": "execute_result"
    }
   ],
   "source": [
    "average_burnups_axial"
   ]
  },
  {
   "cell_type": "code",
   "execution_count": 6,
   "id": "7a8ff7ed",
   "metadata": {},
   "outputs": [
    {
     "data": {
      "text/plain": [
       "203.44171868649292"
      ]
     },
     "execution_count": 6,
     "metadata": {},
     "output_type": "execute_result"
    }
   ],
   "source": [
    "sum([value for key, value in average_burnups.items()])\n"
   ]
  },
  {
   "cell_type": "code",
   "execution_count": 7,
   "id": "5ee59348",
   "metadata": {},
   "outputs": [
    {
     "data": {
      "text/plain": [
       "203.44171868649286"
      ]
     },
     "execution_count": 7,
     "metadata": {},
     "output_type": "execute_result"
    }
   ],
   "source": [
    "sum([value for key, value in average_burnups_axial.items()]) / Z"
   ]
  },
  {
   "cell_type": "code",
   "execution_count": 8,
   "id": "b400af53",
   "metadata": {},
   "outputs": [
    {
     "data": {
      "text/plain": [
       "{'P48': 2.3027596118250937,\n",
       " 'P47': 4.259862717259177,\n",
       " 'P46': 6.928966187393164,\n",
       " 'P45': 10.02019538112036,\n",
       " 'P44': 15.41954841569802,\n",
       " 'P43': 17.132529143126344,\n",
       " 'P42': 16.18840089158993,\n",
       " 'P41': 14.0444368174942,\n",
       " 'P40': 13.986071547488967,\n",
       " 'P39': 11.185551746269416,\n",
       " 'P38': 11.485190872207179,\n",
       " 'P37': 10.868317957963296,\n",
       " 'P36': 7.81091188031589,\n",
       " 'P35': 8.139558709966655,\n",
       " 'P34': 7.878253902285693,\n",
       " 'P33': 7.146856331080695,\n",
       " 'P32': 4.477118140758199,\n",
       " 'P31': 4.7952410713684035,\n",
       " 'P30': 4.624577198759219,\n",
       " 'P29': 3.9853266185183633,\n",
       " 'P28': 2.2030734981233766,\n",
       " 'P27': 2.438129605710859,\n",
       " 'P26': 2.4856868153675884,\n",
       " 'P25': 2.3254975833280476,\n",
       " 'P24': 2.019975002893941,\n",
       " 'P23': 1.6489339496448399,\n",
       " 'P22': 0.7932933787755411,\n",
       " 'P21': 0.9996445168443273,\n",
       " 'P20': 0.9709563690039044,\n",
       " 'P19': 0.8964983489240965,\n",
       " 'P18': 0.6399767685942884,\n",
       " 'P17': 0.4243833306968363,\n",
       " 'P16': 0.18219838922297904,\n",
       " 'P15': 0.252038929090344,\n",
       " 'P14': 0.31578482246287415,\n",
       " 'P13': 0.3374710299529247,\n",
       " 'P12': 0.32175101131585093,\n",
       " 'P11': 0.29680533892163424,\n",
       " 'P10': 0.26576090643269945,\n",
       " 'P9': 0.21653704086005568,\n",
       " 'P8': 0.15447671938959112,\n",
       " 'P7': 0.08327315847812956,\n",
       " 'P6': 0.0925429694736841,\n",
       " 'P5': 0.09511461719413537,\n",
       " 'P4': 0.0900216895177802,\n",
       " 'P3': 0.08242545378427353,\n",
       " 'P2': 0.07247455,\n",
       " 'P1': 0.05731775}"
      ]
     },
     "execution_count": 8,
     "metadata": {},
     "output_type": "execute_result"
    }
   ],
   "source": [
    "average_burnups"
   ]
  },
  {
   "cell_type": "code",
   "execution_count": 9,
   "id": "9217eccf",
   "metadata": {},
   "outputs": [],
   "source": [
    "dep = serpentTools.read(\"wh_lfr_dep.m\")"
   ]
  },
  {
   "cell_type": "code",
   "execution_count": 10,
   "id": "6a73b105",
   "metadata": {},
   "outputs": [
    {
     "name": "stderr",
     "output_type": "stream",
     "text": [
      "Executing <Task pending coro=<Kernel.dispatch_queue() running at /home/stalex/repos/01_wh_lfr/.direnv/python-3.7.13/lib/python3.7/site-packages/ipykernel/kernelbase.py:510> wait_for=<Future pending cb=[<TaskWakeupMethWrapper object at 0x7f6415914a20>()] created at /home/stalex/repos/01_wh_lfr/.direnv/python-3.7.13/lib/python3.7/site-packages/tornado/queues.py:248> cb=[IOLoop.add_future.<locals>.<lambda>() at /home/stalex/repos/01_wh_lfr/.direnv/python-3.7.13/lib/python3.7/site-packages/tornado/ioloop.py:687] created at /home/stalex/repos/01_wh_lfr/.direnv/python-3.7.13/lib/python3.7/site-packages/tornado/gen.py:874> took 0.546 seconds\n"
     ]
    },
    {
     "data": {
      "text/plain": [
       "['__class__',\n",
       " '__delattr__',\n",
       " '__dict__',\n",
       " '__dir__',\n",
       " '__doc__',\n",
       " '__eq__',\n",
       " '__format__',\n",
       " '__ge__',\n",
       " '__getattribute__',\n",
       " '__getitem__',\n",
       " '__gt__',\n",
       " '__hash__',\n",
       " '__init__',\n",
       " '__init_subclass__',\n",
       " '__le__',\n",
       " '__lt__',\n",
       " '__module__',\n",
       " '__ne__',\n",
       " '__new__',\n",
       " '__reduce__',\n",
       " '__reduce_ex__',\n",
       " '__repr__',\n",
       " '__setattr__',\n",
       " '__sizeof__',\n",
       " '__str__',\n",
       " '__subclasshook__',\n",
       " '__weakref__',\n",
       " '_checkCompareObj',\n",
       " '_checkTimePoints',\n",
       " '_compare',\n",
       " '_compareLogPreMsg',\n",
       " '_formatLabel',\n",
       " '_getColIndices',\n",
       " '_getIsoID',\n",
       " '_getRowIndices',\n",
       " '_slice',\n",
       " 'activity',\n",
       " 'addData',\n",
       " 'adens',\n",
       " 'burnup',\n",
       " 'compare',\n",
       " 'data',\n",
       " 'days',\n",
       " 'decayHeat',\n",
       " 'docAttrs',\n",
       " 'docEquiv',\n",
       " 'docParams',\n",
       " 'get',\n",
       " 'getValues',\n",
       " 'ingTox',\n",
       " 'inhTox',\n",
       " 'mdens',\n",
       " 'name',\n",
       " 'names',\n",
       " 'photonProdRate',\n",
       " 'plot',\n",
       " 'spontaneousFissionRate',\n",
       " 'toDataFrame',\n",
       " 'volume',\n",
       " 'zai']"
      ]
     },
     "execution_count": 10,
     "metadata": {},
     "output_type": "execute_result"
    }
   ],
   "source": [
    "dir(dep.materials[\"total\"])\n"
   ]
  },
  {
   "cell_type": "code",
   "execution_count": 78,
   "id": "2bd438dd",
   "metadata": {},
   "outputs": [
    {
     "data": {
      "text/plain": [
       "array([[ 3076140.,  3221580.],\n",
       "       [56550500., 56138500.]])"
      ]
     },
     "execution_count": 78,
     "metadata": {},
     "output_type": "execute_result"
    }
   ],
   "source": [
    "dayPoints = totalfuel.days\n",
    "iso = ['plutonium', 'U238']\n",
    "zai = [94, 922380]\n",
    "\n",
    "totalfuel = dep.materials[\"total\"]\n",
    "\n",
    "#totalfuel.data[\"mass\"]\n",
    "\n",
    "totalfuel.getValues('days', 'mass', totalfuel.days, iso)\n",
    "#totalfuel.names"
   ]
  },
  {
   "cell_type": "code",
   "execution_count": 74,
   "id": "a33e4e67",
   "metadata": {},
   "outputs": [
    {
     "data": {
      "text/plain": [
       "array([  0., 280.])"
      ]
     },
     "execution_count": 74,
     "metadata": {},
     "output_type": "execute_result"
    }
   ],
   "source": [
    "totalfuel.days"
   ]
  },
  {
   "cell_type": "code",
   "execution_count": 61,
   "id": "8ae89864",
   "metadata": {},
   "outputs": [
    {
     "ename": "ValueError",
     "evalue": "Could not find isotope names [\"Th227\", \"Th228\", \"Th229\", \"Th230\", \"Th231\", \"Th232\", \"Th233\", \"Th234\", \"Pa231\", \"Pa232\", \"Pa233\", \"U232\", \"U233\", \"U234\", \"U235\", \"U236\", \"U237\", \"U238\", \"U239\", \"U240\", \"U241\", \"Np235\", \"Np236\", \"Np237\", \"Np238\", \"Np239\", \"Pu236\", \"Pu237\", \"Pu238\", \"Pu239\", \"Pu240\", \"Pu241\", \"Pu242\", \"Pu243\", \"Pu244\", \"Am241\", \"Am242\", \"Am242m\", \"Am243\", \"Am244\", \"Am244m\", \"Cm240\", \"Cm241\", \"Cm242\", \"Cm243\", \"Cm244\", \"Cm245\", \"Cm246\", \"Cm247\", \"Cm248\", \"Cm249\", \"Cm250\", \"thorium\", \"protactinium\", \"uranium\", \"neptunium\", \"plutonium\", \"americium\", \"curium\", \"lost\", \"total\"]",
     "output_type": "error",
     "traceback": [
      "\u001b[0;31m---------------------------------------------------------------------------\u001b[0m",
      "\u001b[0;31mValueError\u001b[0m                                Traceback (most recent call last)",
      "\u001b[0;32m/tmp/ipykernel_30954/2977206407.py\u001b[0m in \u001b[0;36m<module>\u001b[0;34m\u001b[0m\n\u001b[1;32m      1\u001b[0m \u001b[0;32mimport\u001b[0m \u001b[0mjson\u001b[0m\u001b[0;34m\u001b[0m\u001b[0;34m\u001b[0m\u001b[0m\n\u001b[1;32m      2\u001b[0m \u001b[0;34m\u001b[0m\u001b[0m\n\u001b[0;32m----> 3\u001b[0;31m \u001b[0mx\u001b[0m \u001b[0;34m=\u001b[0m \u001b[0mdep\u001b[0m\u001b[0;34m.\u001b[0m\u001b[0mmaterials\u001b[0m\u001b[0;34m[\u001b[0m\u001b[0;34m\"fuelP48Z1\"\u001b[0m\u001b[0;34m]\u001b[0m\u001b[0;34m.\u001b[0m\u001b[0mtoDataFrame\u001b[0m\u001b[0;34m(\u001b[0m\u001b[0;34m\"a\"\u001b[0m\u001b[0;34m,\u001b[0m \u001b[0mnames\u001b[0m\u001b[0;34m=\u001b[0m\u001b[0;34m[\u001b[0m\u001b[0mjson\u001b[0m\u001b[0;34m.\u001b[0m\u001b[0mdumps\u001b[0m\u001b[0;34m(\u001b[0m\u001b[0mtotalfuel\u001b[0m\u001b[0;34m.\u001b[0m\u001b[0mnames\u001b[0m\u001b[0;34m)\u001b[0m\u001b[0;34m]\u001b[0m\u001b[0;34m,\u001b[0m \u001b[0mtime\u001b[0m\u001b[0;34m=\u001b[0m\u001b[0;34m\"days\"\u001b[0m\u001b[0;34m)\u001b[0m\u001b[0;34m\u001b[0m\u001b[0;34m\u001b[0m\u001b[0m\n\u001b[0m\u001b[1;32m      4\u001b[0m \u001b[0mx\u001b[0m\u001b[0;34m\u001b[0m\u001b[0;34m\u001b[0m\u001b[0m\n",
      "\u001b[0;32m~/repos/01_wh_lfr/.direnv/python-3.7.13/lib/python3.7/site-packages/serpentTools/objects/materials.py\u001b[0m in \u001b[0;36mtoDataFrame\u001b[0;34m(self, quantity, names, zai, time, multiIndex)\u001b[0m\n\u001b[1;32m    599\u001b[0m                     [self.zai[x] for x in isoslice], name=\"Isotope ZAI\")\n\u001b[1;32m    600\u001b[0m         \u001b[0;32melse\u001b[0m\u001b[0;34m:\u001b[0m\u001b[0;34m\u001b[0m\u001b[0;34m\u001b[0m\u001b[0m\n\u001b[0;32m--> 601\u001b[0;31m             \u001b[0misoslice\u001b[0m \u001b[0;34m=\u001b[0m \u001b[0mself\u001b[0m\u001b[0;34m.\u001b[0m\u001b[0m_getRowIndices\u001b[0m\u001b[0;34m(\u001b[0m\u001b[0;34m\"names\"\u001b[0m\u001b[0;34m,\u001b[0m \u001b[0mnames\u001b[0m\u001b[0;34m)\u001b[0m\u001b[0;34m\u001b[0m\u001b[0;34m\u001b[0m\u001b[0m\n\u001b[0m\u001b[1;32m    602\u001b[0m             columns = pandas.Index(\n\u001b[1;32m    603\u001b[0m                 [self.names[x] for x in isoslice], name=\"Isotopes\")\n",
      "\u001b[0;32m~/repos/01_wh_lfr/.direnv/python-3.7.13/lib/python3.7/site-packages/serpentTools/objects/materials.py\u001b[0m in \u001b[0;36m_getRowIndices\u001b[0;34m(self, attr, isotopes)\u001b[0m\n\u001b[1;32m    296\u001b[0m             \u001b[0;32mif\u001b[0m \u001b[0misotope\u001b[0m \u001b[0;32mnot\u001b[0m \u001b[0;32min\u001b[0m \u001b[0mallvals\u001b[0m\u001b[0;34m:\u001b[0m\u001b[0;34m\u001b[0m\u001b[0;34m\u001b[0m\u001b[0m\n\u001b[1;32m    297\u001b[0m                 raise ValueError(\"Could not find isotope {} {}\"\n\u001b[0;32m--> 298\u001b[0;31m                                  .format(attr, isotope))\n\u001b[0m\u001b[1;32m    299\u001b[0m             \u001b[0mrowIDs\u001b[0m\u001b[0;34m[\u001b[0m\u001b[0mindx\u001b[0m\u001b[0;34m]\u001b[0m \u001b[0;34m=\u001b[0m \u001b[0mallvals\u001b[0m\u001b[0;34m.\u001b[0m\u001b[0mindex\u001b[0m\u001b[0;34m(\u001b[0m\u001b[0misotope\u001b[0m\u001b[0;34m)\u001b[0m\u001b[0;34m\u001b[0m\u001b[0;34m\u001b[0m\u001b[0m\n\u001b[1;32m    300\u001b[0m         \u001b[0;32mreturn\u001b[0m \u001b[0mrowIDs\u001b[0m\u001b[0;34m\u001b[0m\u001b[0;34m\u001b[0m\u001b[0m\n",
      "\u001b[0;31mValueError\u001b[0m: Could not find isotope names [\"Th227\", \"Th228\", \"Th229\", \"Th230\", \"Th231\", \"Th232\", \"Th233\", \"Th234\", \"Pa231\", \"Pa232\", \"Pa233\", \"U232\", \"U233\", \"U234\", \"U235\", \"U236\", \"U237\", \"U238\", \"U239\", \"U240\", \"U241\", \"Np235\", \"Np236\", \"Np237\", \"Np238\", \"Np239\", \"Pu236\", \"Pu237\", \"Pu238\", \"Pu239\", \"Pu240\", \"Pu241\", \"Pu242\", \"Pu243\", \"Pu244\", \"Am241\", \"Am242\", \"Am242m\", \"Am243\", \"Am244\", \"Am244m\", \"Cm240\", \"Cm241\", \"Cm242\", \"Cm243\", \"Cm244\", \"Cm245\", \"Cm246\", \"Cm247\", \"Cm248\", \"Cm249\", \"Cm250\", \"thorium\", \"protactinium\", \"uranium\", \"neptunium\", \"plutonium\", \"americium\", \"curium\", \"lost\", \"total\"]"
     ]
    }
   ],
   "source": [
    "import json\n",
    "\n",
    "x = dep.materials[\"fuelP48Z1\"].toDataFrame(\"a\", names=[json.dumps(totalfuel.names)], time=\"days\")\n",
    "x"
   ]
  },
  {
   "cell_type": "code",
   "execution_count": 62,
   "id": "ed00cb0f",
   "metadata": {},
   "outputs": [
    {
     "data": {
      "text/plain": [
       "'[\"Th227\", \"Th228\", \"Th229\", \"Th230\", \"Th231\", \"Th232\", \"Th233\", \"Th234\", \"Pa231\", \"Pa232\", \"Pa233\", \"U232\", \"U233\", \"U234\", \"U235\", \"U236\", \"U237\", \"U238\", \"U239\", \"U240\", \"U241\", \"Np235\", \"Np236\", \"Np237\", \"Np238\", \"Np239\", \"Pu236\", \"Pu237\", \"Pu238\", \"Pu239\", \"Pu240\", \"Pu241\", \"Pu242\", \"Pu243\", \"Pu244\", \"Am241\", \"Am242\", \"Am242m\", \"Am243\", \"Am244\", \"Am244m\", \"Cm240\", \"Cm241\", \"Cm242\", \"Cm243\", \"Cm244\", \"Cm245\", \"Cm246\", \"Cm247\", \"Cm248\", \"Cm249\", \"Cm250\", \"thorium\", \"protactinium\", \"uranium\", \"neptunium\", \"plutonium\", \"americium\", \"curium\", \"lost\", \"total\"]'"
      ]
     },
     "execution_count": 62,
     "metadata": {},
     "output_type": "execute_result"
    }
   ],
   "source": []
  },
  {
   "cell_type": "code",
   "execution_count": 73,
   "id": "83680dc9",
   "metadata": {},
   "outputs": [
    {
     "ename": "TypeError",
     "evalue": "'int' object is not iterable",
     "output_type": "error",
     "traceback": [
      "\u001b[0;31m---------------------------------------------------------------------------\u001b[0m",
      "\u001b[0;31mTypeError\u001b[0m                                 Traceback (most recent call last)",
      "\u001b[0;32m/tmp/ipykernel_30954/75746204.py\u001b[0m in \u001b[0;36m<module>\u001b[0;34m\u001b[0m\n\u001b[0;32m----> 1\u001b[0;31m \u001b[0mtotalfuel\u001b[0m\u001b[0;34m.\u001b[0m\u001b[0mgetValues\u001b[0m\u001b[0;34m(\u001b[0m\u001b[0;34m'days'\u001b[0m\u001b[0;34m,\u001b[0m \u001b[0;34m'a'\u001b[0m\u001b[0;34m,\u001b[0m \u001b[0;36m0\u001b[0m\u001b[0;34m,\u001b[0m \u001b[0miso\u001b[0m\u001b[0;34m)\u001b[0m\u001b[0;34m\u001b[0m\u001b[0;34m\u001b[0m\u001b[0m\n\u001b[0m",
      "\u001b[0;32m~/repos/01_wh_lfr/.direnv/python-3.7.13/lib/python3.7/site-packages/serpentTools/objects/materials.py\u001b[0m in \u001b[0;36mgetValues\u001b[0;34m(self, xUnits, yUnits, timePoints, names, zai)\u001b[0m\n\u001b[1;32m    256\u001b[0m         \u001b[0;32melse\u001b[0m\u001b[0;34m:\u001b[0m\u001b[0;34m\u001b[0m\u001b[0;34m\u001b[0m\u001b[0m\n\u001b[1;32m    257\u001b[0m             \u001b[0mrowIndices\u001b[0m \u001b[0;34m=\u001b[0m \u001b[0;32mNone\u001b[0m\u001b[0;34m\u001b[0m\u001b[0;34m\u001b[0m\u001b[0m\n\u001b[0;32m--> 258\u001b[0;31m         \u001b[0mcolIndices\u001b[0m \u001b[0;34m=\u001b[0m \u001b[0mself\u001b[0m\u001b[0;34m.\u001b[0m\u001b[0m_getColIndices\u001b[0m\u001b[0;34m(\u001b[0m\u001b[0mxUnits\u001b[0m\u001b[0;34m,\u001b[0m \u001b[0mtimePoints\u001b[0m\u001b[0;34m)\u001b[0m\u001b[0;34m\u001b[0m\u001b[0;34m\u001b[0m\u001b[0m\n\u001b[0m\u001b[1;32m    259\u001b[0m         \u001b[0;32mreturn\u001b[0m \u001b[0mself\u001b[0m\u001b[0;34m.\u001b[0m\u001b[0m_slice\u001b[0m\u001b[0;34m(\u001b[0m\u001b[0mself\u001b[0m\u001b[0;34m.\u001b[0m\u001b[0mdata\u001b[0m\u001b[0;34m[\u001b[0m\u001b[0myUnits\u001b[0m\u001b[0;34m]\u001b[0m\u001b[0;34m,\u001b[0m \u001b[0mrowIndices\u001b[0m\u001b[0;34m,\u001b[0m \u001b[0mcolIndices\u001b[0m\u001b[0;34m)\u001b[0m\u001b[0;34m\u001b[0m\u001b[0;34m\u001b[0m\u001b[0m\n\u001b[1;32m    260\u001b[0m \u001b[0;34m\u001b[0m\u001b[0m\n",
      "\u001b[0;32m~/repos/01_wh_lfr/.direnv/python-3.7.13/lib/python3.7/site-packages/serpentTools/objects/materials.py\u001b[0m in \u001b[0;36m_getColIndices\u001b[0;34m(self, xUnits, timePoints)\u001b[0m\n\u001b[1;32m    282\u001b[0m         \u001b[0;32mif\u001b[0m \u001b[0mtimePoints\u001b[0m \u001b[0;32mis\u001b[0m \u001b[0;32mNone\u001b[0m\u001b[0;34m:\u001b[0m\u001b[0;34m\u001b[0m\u001b[0;34m\u001b[0m\u001b[0m\n\u001b[1;32m    283\u001b[0m             \u001b[0;32mreturn\u001b[0m \u001b[0mnumpy\u001b[0m\u001b[0;34m.\u001b[0m\u001b[0marange\u001b[0m\u001b[0;34m(\u001b[0m\u001b[0mlen\u001b[0m\u001b[0;34m(\u001b[0m\u001b[0mallX\u001b[0m\u001b[0;34m)\u001b[0m\u001b[0;34m,\u001b[0m \u001b[0mdtype\u001b[0m\u001b[0;34m=\u001b[0m\u001b[0mint\u001b[0m\u001b[0;34m)\u001b[0m\u001b[0;34m\u001b[0m\u001b[0;34m\u001b[0m\u001b[0m\n\u001b[0;32m--> 284\u001b[0;31m         \u001b[0mself\u001b[0m\u001b[0;34m.\u001b[0m\u001b[0m_checkTimePoints\u001b[0m\u001b[0;34m(\u001b[0m\u001b[0mallX\u001b[0m\u001b[0;34m,\u001b[0m \u001b[0mtimePoints\u001b[0m\u001b[0;34m)\u001b[0m\u001b[0;34m\u001b[0m\u001b[0;34m\u001b[0m\u001b[0m\n\u001b[0m\u001b[1;32m    285\u001b[0m         \u001b[0mcolIndices\u001b[0m \u001b[0;34m=\u001b[0m \u001b[0;34m[\u001b[0m\u001b[0mindx\u001b[0m \u001b[0;32mfor\u001b[0m \u001b[0mindx\u001b[0m\u001b[0;34m,\u001b[0m \u001b[0mxx\u001b[0m \u001b[0;32min\u001b[0m \u001b[0menumerate\u001b[0m\u001b[0;34m(\u001b[0m\u001b[0mallX\u001b[0m\u001b[0;34m)\u001b[0m \u001b[0;32mif\u001b[0m \u001b[0mxx\u001b[0m \u001b[0;32min\u001b[0m \u001b[0mtimePoints\u001b[0m\u001b[0;34m]\u001b[0m\u001b[0;34m\u001b[0m\u001b[0;34m\u001b[0m\u001b[0m\n\u001b[1;32m    286\u001b[0m         \u001b[0;32mreturn\u001b[0m \u001b[0mcolIndices\u001b[0m\u001b[0;34m\u001b[0m\u001b[0;34m\u001b[0m\u001b[0m\n",
      "\u001b[0;32m~/repos/01_wh_lfr/.direnv/python-3.7.13/lib/python3.7/site-packages/serpentTools/objects/materials.py\u001b[0m in \u001b[0;36m_checkTimePoints\u001b[0;34m(self, actual, requested)\u001b[0m\n\u001b[1;32m    271\u001b[0m     \u001b[0;32mdef\u001b[0m \u001b[0m_checkTimePoints\u001b[0m\u001b[0;34m(\u001b[0m\u001b[0mself\u001b[0m\u001b[0;34m,\u001b[0m \u001b[0mactual\u001b[0m\u001b[0;34m,\u001b[0m \u001b[0mrequested\u001b[0m\u001b[0;34m)\u001b[0m\u001b[0;34m:\u001b[0m\u001b[0;34m\u001b[0m\u001b[0;34m\u001b[0m\u001b[0m\n\u001b[1;32m    272\u001b[0m         \u001b[0;34m\"\"\"Return a list of all requested points in time not stored.\"\"\"\u001b[0m\u001b[0;34m\u001b[0m\u001b[0;34m\u001b[0m\u001b[0m\n\u001b[0;32m--> 273\u001b[0;31m         \u001b[0mbadPoints\u001b[0m \u001b[0;34m=\u001b[0m \u001b[0;34m[\u001b[0m\u001b[0mstr\u001b[0m\u001b[0;34m(\u001b[0m\u001b[0mtime\u001b[0m\u001b[0;34m)\u001b[0m \u001b[0;32mfor\u001b[0m \u001b[0mtime\u001b[0m \u001b[0;32min\u001b[0m \u001b[0mrequested\u001b[0m \u001b[0;32mif\u001b[0m \u001b[0mtime\u001b[0m \u001b[0;32mnot\u001b[0m \u001b[0;32min\u001b[0m \u001b[0mactual\u001b[0m\u001b[0;34m]\u001b[0m\u001b[0;34m\u001b[0m\u001b[0;34m\u001b[0m\u001b[0m\n\u001b[0m\u001b[1;32m    274\u001b[0m         \u001b[0;32mif\u001b[0m \u001b[0many\u001b[0m\u001b[0;34m(\u001b[0m\u001b[0mbadPoints\u001b[0m\u001b[0;34m)\u001b[0m\u001b[0;34m:\u001b[0m\u001b[0;34m\u001b[0m\u001b[0;34m\u001b[0m\u001b[0m\n\u001b[1;32m    275\u001b[0m             raise KeyError(\n",
      "\u001b[0;31mTypeError\u001b[0m: 'int' object is not iterable"
     ]
    }
   ],
   "source": [
    "totalfuel.getValues('days', 'a', dayPoints, iso)"
   ]
  },
  {
   "cell_type": "code",
   "execution_count": null,
   "id": "b4187c75",
   "metadata": {},
   "outputs": [],
   "source": []
  }
 ],
 "metadata": {
  "kernelspec": {
   "display_name": "python-3.7.13",
   "language": "python",
   "name": "python3"
  },
  "language_info": {
   "codemirror_mode": {
    "name": "ipython",
    "version": 3
   },
   "file_extension": ".py",
   "mimetype": "text/x-python",
   "name": "python",
   "nbconvert_exporter": "python",
   "pygments_lexer": "ipython3",
   "version": "3.7.13"
  },
  "vscode": {
   "interpreter": {
    "hash": "a3555c87b49629362fabc3362130a878e1af7e8f15ed123867dbaf9165c66537"
   }
  }
 },
 "nbformat": 4,
 "nbformat_minor": 5
}
