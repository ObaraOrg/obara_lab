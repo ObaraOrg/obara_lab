{
 "cells": [
  {
   "cell_type": "code",
   "execution_count": null,
   "id": "303faf78-45f9-4f18-8a66-6c17c43de8bc",
   "metadata": {},
   "outputs": [],
   "source": [
    "import pathlib\n",
    "from pathlib import Path\n",
    "from typing import List, Tuple, Union\n",
    "import copy\n",
    "import numpy as np\n",
    "import matplotlib.pyplot as plt\n",
    "import serpentTools\n",
    "from serpentTools.parsers.results import ResultsReader\n",
    "import click\n",
    "import matplotlib.pyplot as plt\n",
    "\n",
    "serpentTools.settings.rc[\"serpentVersion\"] = \"2.1.32\"\n",
    "P = 48 #max no of FA\n",
    "Z = 6  #max no of slices\n",
    "\n",
    "\n",
    "AV = 0.6221408E+24\n",
    "\n",
    "\n",
    "def discharge_bu() -> None:\n",
    "    res_list = []\n",
    "\n",
    "    with serpentTools.settings.rc:\n",
    "        serpentTools.settings.rc[\"verbosity\"] = \"error\"\n",
    "    dep = serpentTools.read(\"wh_lfr_dep.m\")\n",
    "    \n",
    "    return dep\n",
    "\n",
    "dep = discharge_bu()"
   ]
  },
  {
   "cell_type": "code",
   "execution_count": null,
   "id": "a6d15b1a",
   "metadata": {},
   "outputs": [],
   "source": [
    "materials = dep.materials.keys()"
   ]
  },
  {
   "cell_type": "code",
   "execution_count": null,
   "id": "b9ca013c",
   "metadata": {},
   "outputs": [],
   "source": [
    "def split_name(name: str)->Tuple[int, int]:\n",
    "    without_fuel = name[4:]\n",
    "    split_without_fuel  = without_fuel.split(\"Z\")\n",
    "    p_num = int(split_without_fuel[0][1:])\n",
    "    z_num = int(split_without_fuel[1])\n",
    "    return p_num, z_num"
   ]
  },
  {
   "cell_type": "code",
   "execution_count": null,
   "id": "300d064d",
   "metadata": {},
   "outputs": [],
   "source": [
    "materials_dict = {}\n",
    "for material in materials:\n",
    "    if material == \"total\":\n",
    "        continue\n",
    "    materials_dict[material] = {\"mdens\": dep.materials[material].mdens[:, -1].sum(), \"burnup\": dep.materials[material].burnup[-1]}"
   ]
  },
  {
   "cell_type": "code",
   "execution_count": null,
   "id": "f2061734",
   "metadata": {
    "scrolled": false
   },
   "outputs": [],
   "source": [
    "for material in materials_dict:\n",
    "    p_index, z_index = split_name(str(material))\n",
    "    mdens_to_divide_key = f\"fuelP1Z{z_index}\"\n",
    "    mdens_to_divide = dep.materials[mdens_to_divide_key].mdens[:, -1].sum()\n",
    "    ratio = materials_dict[material][\"mdens\"] / mdens_to_divide\n",
    "    materials_dict[material][\"mdens_ratio\"] = ratio"
   ]
  },
  {
   "cell_type": "code",
   "execution_count": null,
   "id": "da64ca9e",
   "metadata": {},
   "outputs": [],
   "source": [
    "for material in materials_dict.keys():\n",
    "    p_index, z_index = split_name(material)\n",
    "    burn_up = materials_dict[material][\"burnup\"]\n",
    "    if p_index != 1:\n",
    "        p_index = p_index - 1\n",
    "    \n",
    "    corrected_material = f\"fuelP{p_index}Z{z_index}\"\n",
    "    ratio = materials_dict[corrected_material][\"mdens_ratio\"]\n",
    "    corrected_burnup = burn_up * ratio\n",
    "    materials_dict[material][\"corrected_burnup\"] = corrected_burnup\n"
   ]
  },
  {
   "cell_type": "code",
   "execution_count": null,
   "id": "a25520c0",
   "metadata": {},
   "outputs": [],
   "source": [
    "average_burnups = {}\n",
    "for material in materials_dict.keys():\n",
    "    p_index, _ = split_name(material)\n",
    "    average_burnup = 0\n",
    "    for zidx in range(1 , Z + 1):\n",
    "        key_construct = f\"fuelP{p_index}Z{zidx}\"\n",
    "        average_burnup += materials_dict[key_construct][\"corrected_burnup\"] / Z\n",
    "    average_burnups[f\"P{p_index}\"] = average_burnup\n",
    "    "
   ]
  },
  {
   "cell_type": "code",
   "execution_count": null,
   "id": "3388b0a6",
   "metadata": {},
   "outputs": [],
   "source": [
    "sum([value for key, value in average_burnups.items()])"
   ]
  },
  {
   "cell_type": "code",
   "execution_count": null,
   "id": "5ee59348",
   "metadata": {},
   "outputs": [],
   "source": [
    "average_burnups_axial = {}\n",
    "for material in materials_dict.keys():\n",
    "    _, z_index = split_name(material)\n",
    "    average_axial_burnup = 0\n",
    "    for pidx in range(1 , P + 1):\n",
    "        key_construct = f\"fuelP{pidx}Z{z_index}\"\n",
    "        average_axial_burnup += materials_dict[key_construct][\"corrected_burnup\"]\n",
    "    average_burnups_axial[f\"Z{z_index}\"] = average_axial_burnup\n",
    "    "
   ]
  },
  {
   "cell_type": "code",
   "execution_count": null,
   "id": "9a661500",
   "metadata": {},
   "outputs": [],
   "source": [
    "average_burnups_axial"
   ]
  },
  {
   "cell_type": "code",
   "execution_count": null,
   "id": "e75eed7c",
   "metadata": {},
   "outputs": [],
   "source": [
    "sum([value for key, value in average_burnups_axial.items()]) / Z"
   ]
  },
  {
   "cell_type": "code",
   "execution_count": 1,
   "id": "8516d617",
   "metadata": {},
   "outputs": [],
   "source": [
    "# OLD VERSION"
   ]
  },
  {
   "cell_type": "code",
   "execution_count": null,
   "id": "05c40889",
   "metadata": {},
   "outputs": [],
   "source": [
    "dep.materials['fuelP48Z1'].mden"
   ]
  },
  {
   "cell_type": "code",
   "execution_count": null,
   "id": "3a3f50d8",
   "metadata": {},
   "outputs": [],
   "source": [
    "#print(dep.materials[\"fuelP1Z1\"].mdens[:,3][:38])\n",
    "#print(len(dep.materials[\"fuelP1Z1\"].mdens[:,3][:38]))\n",
    "print(dep.names[:39])\n",
    "m_dens = dep.materials[\"fuelP1Z1\"].mdens[:,3][:39]\n",
    "names = np.array(dep.names[:39])\n",
    "print(names)\n",
    "print(m_dens)\n",
    "print(np.vstack((names,m_dens)))\n",
    "\n",
    "\n"
   ]
  },
  {
   "cell_type": "code",
   "execution_count": null,
   "id": "df807092",
   "metadata": {},
   "outputs": [],
   "source": [
    "\n",
    "last_bu_step = len(dep.burnup) - 1\n",
    "max_list_HM = np.where(np.char.find(dep.names, \"Cm250\") == 0)[0][0] + 1\n",
    "\n",
    "# Gets the correction ration for FA\n",
    "c_ratio = []\n",
    "name_list = []\n",
    "serpent_bu = []\n",
    "corrected_bu = []\n",
    "\n",
    "step = 0\n",
    "\n",
    "for poz in range(1, P+1):\n",
    "    for slice in range(1, Z+1):\n",
    "        fa_name = f\"fuelP{poz}Z{slice}\"\n",
    "        fa1_name = f\"fuelP1Z{slice}\"\n",
    "\n",
    "        sum_hm = np.sum(dep.materials[fa_name].mdens[: ,last_bu_step][:max_list_HM])\n",
    "        sum_hm_fa1 = np.sum(dep.materials[fa1_name].mdens[: ,last_bu_step][:max_list_HM])\n",
    "        ratio_i = sum_hm/sum_hm_fa1\n",
    "\n",
    "        c_ratio.append(ratio_i)\n",
    "        name_list.append(fa_name)\n",
    "\n",
    "        \n",
    "        serpent_bu.append(dep.materials[fa_name].burnup[last_bu_step])\n",
    "\n",
    "        #print(step)\n",
    "        if step <= 5:\n",
    "            #print(\"FA1\")\n",
    "            corrected_bu.append(dep.materials[fa1_name].burnup[last_bu_step])\n",
    "        else:    \n",
    "            #print(\"FAn\")\n",
    "            fa_c_bu = dep.materials[fa_name].burnup[last_bu_step] * c_ratio[step-6]\n",
    "            #print(c_ratio[step-6])\n",
    "            corrected_bu.append(fa_c_bu)\n",
    "\n",
    "        \n",
    "\n",
    "        step += 1\n",
    "\n",
    "#np.vstack((name_list,c_ratio))\n",
    "#print(len(corrected_bu))\n",
    "#print(corrected_bu)\n",
    "\n"
   ]
  },
  {
   "cell_type": "code",
   "execution_count": null,
   "id": "b549760f",
   "metadata": {},
   "outputs": [],
   "source": [
    "type(serpent_bu)\n"
   ]
  },
  {
   "cell_type": "code",
   "execution_count": null,
   "id": "3b09c18c",
   "metadata": {},
   "outputs": [],
   "source": [
    "c_ratio"
   ]
  },
  {
   "cell_type": "code",
   "execution_count": null,
   "id": "de6580c8",
   "metadata": {},
   "outputs": [],
   "source": []
  }
 ],
 "metadata": {
  "kernelspec": {
   "display_name": "Python 3 (ipykernel)",
   "language": "python",
   "name": "python3"
  },
  "language_info": {
   "codemirror_mode": {
    "name": "ipython",
    "version": 3
   },
   "file_extension": ".py",
   "mimetype": "text/x-python",
   "name": "python",
   "nbconvert_exporter": "python",
   "pygments_lexer": "ipython3",
   "version": "3.7.13"
  },
  "vscode": {
   "interpreter": {
    "hash": "a3555c87b49629362fabc3362130a878e1af7e8f15ed123867dbaf9165c66537"
   }
  }
 },
 "nbformat": 4,
 "nbformat_minor": 5
}
