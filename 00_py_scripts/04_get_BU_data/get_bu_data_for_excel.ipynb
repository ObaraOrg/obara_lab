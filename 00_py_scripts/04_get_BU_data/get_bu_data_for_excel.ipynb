{
 "cells": [
  {
   "cell_type": "code",
   "execution_count": null,
   "id": "1cb701d4",
   "metadata": {},
   "outputs": [],
   "source": [
    "import pathlib\n",
    "from pathlib import Path\n",
    "from typing import List, Tuple, Union\n",
    "import copy\n",
    "import numpy as np\n",
    "import matplotlib.pyplot as plt\n",
    "import serpentTools\n",
    "from serpentTools.parsers.results import ResultsReader\n",
    "import click\n",
    "import matplotlib.pyplot as plt\n",
    "\n",
    "serpentTools.settings.rc[\"serpentVersion\"] = \"2.1.32\"\n",
    "P = 48 #max no of FA\n",
    "Z = 6  #max no of slices\n",
    "\n",
    "\n",
    "AV = 0.6221408E+24\n",
    "\n",
    "\n",
    "def discharge_bu() -> None:\n",
    "    res_list = []\n",
    "\n",
    "    with serpentTools.settings.rc:\n",
    "        serpentTools.settings.rc[\"verbosity\"] = \"error\"\n",
    "    dep = serpentTools.read(\"wh_lfr_dep.m\")\n",
    "    \n",
    "    return dep\n",
    "\n",
    "dep = discharge_bu()\n",
    "\n",
    "def split_name(name: str)->Tuple[int, int]:\n",
    "    \"\"\"The functions take a fuel name, separates the P and Z and takes out the indexes\n",
    "        Note: It s made only for this specific nomeclature, needs modification if you \n",
    "        want more fancy names\n",
    "\n",
    "    Args:\n",
    "        name (str): Takes in a standard fuel position name \"fuelPxxxZxxx\"\n",
    "\n",
    "    Returns:\n",
    "        Tuple[int, int]: Gives out a tuple with the val of P and Z\n",
    "    \"\"\"\n",
    "    without_fuel = name[4:]\n",
    "    split_without_fuel  = without_fuel.split(\"Z\")\n",
    "    p_num = int(split_without_fuel[0][1:])\n",
    "    z_num = int(split_without_fuel[1])\n",
    "    return p_num, z_num\n",
    "\n",
    "materials = dep.materials.keys()"
   ]
  },
  {
   "cell_type": "code",
   "execution_count": null,
   "id": "43f3318d",
   "metadata": {},
   "outputs": [],
   "source": [
    "dep.materials[\"fuelP1Z1\"].names[52:59]"
   ]
  },
  {
   "cell_type": "code",
   "execution_count": null,
   "id": "f2f6d6c0",
   "metadata": {},
   "outputs": [],
   "source": [
    "materials_dict = {}\n",
    "for material in materials:\n",
    "    if material == \"total\":\n",
    "        # The continue, skips the loop interation at that point\n",
    "        continue\n",
    "    #print(material)\n",
    "    print(dep.materials[material].mdens[:, -1][52:59])"
   ]
  },
  {
   "cell_type": "code",
   "execution_count": null,
   "id": "16f29f45",
   "metadata": {},
   "outputs": [],
   "source": [
    "dep.materials[\"fuelP12Z2\"][\"mdens\"]\n",
    "materials = dep.materials.keys()\n",
    "materials_dict = {}\n",
    "# Go through each material index\n",
    "for material in materials:\n",
    "    if material == \"total\":\n",
    "        # The continue, skips the loop interation at that point\n",
    "        continue\n",
    "    # Add the materials until 52 poz, exclude the total ones, big total and lost (maybe some way more intuitive)\n",
    "    materials_dict[material] = {\"mdens\": dep.materials[material].mdens[:, -1][12:52].sum(), \"burnup\": dep.materials[material].burnup[-1]}\n",
    "    materials_dict"
   ]
  },
  {
   "cell_type": "code",
   "execution_count": null,
   "id": "b7c89ad7",
   "metadata": {},
   "outputs": [],
   "source": [
    "dep.materials[\"fuelP1Z1\"].mdens[:, 0][12:52]"
   ]
  },
  {
   "cell_type": "code",
   "execution_count": null,
   "id": "9a81b571-7c89-4983-93c8-4e1d3ef9ab4e",
   "metadata": {},
   "outputs": [],
   "source": []
  }
 ],
 "metadata": {
  "kernelspec": {
   "display_name": "Python 3.7.13 64-bit ('3.7.13')",
   "language": "python",
   "name": "python3"
  },
  "language_info": {
   "codemirror_mode": {
    "name": "ipython",
    "version": 3
   },
   "file_extension": ".py",
   "mimetype": "text/x-python",
   "name": "python",
   "nbconvert_exporter": "python",
   "pygments_lexer": "ipython3",
   "version": "3.7.13 (default, Jul 19 2022, 21:43:09) \n[GCC 9.4.0]"
  },
  "vscode": {
   "interpreter": {
    "hash": "8b0cf89975865ea465ebb217df8d9f15d9030a2c70f538064f707ff6b1f138e6"
   }
  }
 },
 "nbformat": 4,
 "nbformat_minor": 5
}
