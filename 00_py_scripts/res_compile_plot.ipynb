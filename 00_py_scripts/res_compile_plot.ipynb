{
 "cells": [
  {
   "cell_type": "code",
   "execution_count": null,
   "id": "6e67265a-b3b5-46ff-962f-27a3f5ab912c",
   "metadata": {},
   "outputs": [],
   "source": [
    "import copy\n",
    "from typing import List\n",
    "from pathlib import Path\n",
    "\n",
    "import numpy as np\n",
    "import pandas as pd\n",
    "import matplotlib.pyplot as plt\n",
    "import serpentTools\n",
    "from serpentTools.parsers.results import ResultsReader\n",
    "\n",
    "\n",
    "BASE_PATH=Path(\"04_natU_SF1bis_680d_99N15_new_input\")\n",
    "\n",
    "def pathconstructor(index):\n",
    "    return BASE_PATH/f\"wh_lfrsuffleNo{index}/wh_lfr_res.m\"\n",
    "    #return BASE_PATH/f\"wh_lfr_res.m\"\n",
    "\n",
    "res_list = []\n",
    "\n",
    "for index in range(10):\n",
    "    res = serpentTools.read(str(pathconstructor(index)))\n",
    "    res_list.append(res)\n",
    "    \n",
    "\n",
    "#res_total = []\n",
    "#for res in res_list:\n",
    "#    res_total.append(res.resdata)\n",
    "#           \n",
    "#res_total_complete = copy.deepcopy(res_total[0])\n",
    "#for index in range(1,len(res_total)):\n",
    "#    for key in res_total[0].keys():\n",
    "#        if key == \"burnup\":\n",
    "#            res_bu_sum =res_total[index][key]+ res_total_complete[key][-1]\n",
    "#            # Check the BU array for the seccond collumn\n",
    "#            res_total_complete[key] = np.vstack((res_total_complete[key], res_bu_sum))\n",
    "#        else:\n",
    "#            res_total_complete[key] = np.vstack((res_total_complete[key],res_total[index][key]))"
   ]
  },
  {
   "cell_type": "code",
   "execution_count": null,
   "id": "be4284f4-a3d3-4a52-88c8-6b9728c0529f",
   "metadata": {},
   "outputs": [],
   "source": [
    "res_total = []\n",
    "for res in res_list:\n",
    "    res_total.append(res.resdata)\n",
    "    \n",
    "res_total_complete = copy.deepcopy(res_total[0])\n",
    "for index in range(1,len(res_total)):\n",
    "    for key in res_total[0].keys():\n",
    "        if key == \"absKeff\":\n",
    "            res_bu_sum = res_total[index][key]\n",
    "            res_total_complete[key] = np.vstack((res_total_complete[key], res_bu_sum))\n",
    "        else:\n",
    "            pass"
   ]
  },
  {
   "cell_type": "code",
   "execution_count": null,
   "id": "54c163a9-ec03-440b-bb9a-e22876aabc0c",
   "metadata": {},
   "outputs": [],
   "source": [
    "res_total_complete[\"absKeff\"]\n",
    "#df = pd.DataFrame(data=res_total_complete[\"absKeff\"])\n",
    "#print(df)"
   ]
  },
  {
   "cell_type": "code",
   "execution_count": null,
   "id": "5b09d2d8-ae4f-4318-bd13-bab168cc343e",
   "metadata": {},
   "outputs": [],
   "source": [
    "#res_total_complete[\"absKeff\"], res_total_complete[\"burnup\"]"
   ]
  },
  {
   "cell_type": "code",
   "execution_count": null,
   "id": "773823de-ff14-468b-b48b-948d07778ed4",
   "metadata": {},
   "outputs": [],
   "source": [
    "# fig, axs = plt.subplots(1, 4, figsize=(9, 3), sharey= True)\n",
    "# for i in range(4):\n",
    "#     x = res_total_complete[\"burnup\"][:, 0]\n",
    "#     y = res_total_complete[\"absKeff\"][:,0]\n",
    "#     x  = x[ i * 14: (i + 1) * 14]\n",
    "#     y =  y[ i * 14: (i + 1) * 14]\n",
    "#     axs[i].plot(y)\n",
    "#     axs[i].set_xticks(x)\n",
    "    \n",
    "# #plt.show()"
   ]
  },
  {
   "cell_type": "code",
   "execution_count": null,
   "id": "6a2c37a1-5e94-468b-b9fd-764af376b992",
   "metadata": {},
   "outputs": [],
   "source": [
    "x = res_total_complete[\"burnup\"][:, 0]\n",
    "y = res_total_complete[\"absKeff\"][:, 0]\n",
    "plt.plot(y)\n",
    "plt.xticks(np.arange(x.shape[0]),[f\"{el:.2f}\" for el in x], rotation='vertical')\n",
    "plt.locator_params(axis='x', nbins=26)\n",
    "#axes.set_ylabel(\"xxx\")\n",
    "plt.show()"
   ]
  },
  {
   "cell_type": "code",
   "execution_count": null,
   "id": "bdd52b31-8f63-4bb7-b6f6-72a6fa5bf29a",
   "metadata": {},
   "outputs": [],
   "source": [
    "# res_total_complete = ResultsReader(\"\")\n",
    "# res_total_complete.metadata = res_total_complete.metadata\n",
    "# res_total_complete.universes = res_total_complete.universes\n",
    "# res_total_complete.resdata = res_total_complete\n",
    "# res_total_complete.plot('absKeff')"
   ]
  },
  {
   "cell_type": "code",
   "execution_count": null,
   "id": "213e5d43-a2ff-48f6-8a61-cfada7ba7821",
   "metadata": {},
   "outputs": [],
   "source": [
    "#res_total_complete.resdata"
   ]
  },
  {
   "cell_type": "code",
   "execution_count": null,
   "id": "ef6d1ac3-815c-4154-90cd-c9a945d4b838",
   "metadata": {},
   "outputs": [],
   "source": [
    "#res_total_complete"
   ]
  }
 ],
 "metadata": {
  "kernelspec": {
   "display_name": "Python 3 (ipykernel)",
   "language": "python",
   "name": "python3"
  },
  "language_info": {
   "codemirror_mode": {
    "name": "ipython",
    "version": 3
   },
   "file_extension": ".py",
   "mimetype": "text/x-python",
   "name": "python",
   "nbconvert_exporter": "python",
   "pygments_lexer": "ipython3",
   "version": "3.7.13"
  }
 },
 "nbformat": 4,
 "nbformat_minor": 5
}
