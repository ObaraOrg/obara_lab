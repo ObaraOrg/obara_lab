{
 "cells": [
  {
   "cell_type": "code",
   "execution_count": 1,
   "id": "d945dd0d-b3ac-4f85-adb2-aafaebff07a2",
   "metadata": {},
   "outputs": [
    {
     "ename": "FileNotFoundError",
     "evalue": "[Errno 2] No such file or directory: '05_BUstep_calc_comp_4_natU_99N15/01_5000d_non_discrete/wh_lfr_res.m'",
     "output_type": "error",
     "traceback": [
      "\u001b[0;31m---------------------------------------------------------------------------\u001b[0m",
      "\u001b[0;31mFileNotFoundError\u001b[0m                         Traceback (most recent call last)",
      "\u001b[0;32m/tmp/ipykernel_6815/1825167294.py\u001b[0m in \u001b[0;36m<module>\u001b[0;34m\u001b[0m\n\u001b[1;32m      9\u001b[0m \u001b[0;32mfrom\u001b[0m \u001b[0mserpentTools\u001b[0m\u001b[0;34m.\u001b[0m\u001b[0mparsers\u001b[0m\u001b[0;34m.\u001b[0m\u001b[0mresults\u001b[0m \u001b[0;32mimport\u001b[0m \u001b[0mResultsReader\u001b[0m\u001b[0;34m\u001b[0m\u001b[0;34m\u001b[0m\u001b[0m\n\u001b[1;32m     10\u001b[0m \u001b[0;34m\u001b[0m\u001b[0m\n\u001b[0;32m---> 11\u001b[0;31m \u001b[0mres1\u001b[0m \u001b[0;34m=\u001b[0m \u001b[0mserpentTools\u001b[0m\u001b[0;34m.\u001b[0m\u001b[0mread\u001b[0m\u001b[0;34m(\u001b[0m\u001b[0mstr\u001b[0m\u001b[0;34m(\u001b[0m\u001b[0;34m\"05_BUstep_calc_comp_4_natU_99N15/01_5000d_non_discrete/wh_lfr_res.m\"\u001b[0m\u001b[0;34m)\u001b[0m\u001b[0;34m)\u001b[0m\u001b[0;34m\u001b[0m\u001b[0;34m\u001b[0m\u001b[0m\n\u001b[0m\u001b[1;32m     12\u001b[0m \u001b[0mdep1\u001b[0m \u001b[0;34m=\u001b[0m \u001b[0mserpentTools\u001b[0m\u001b[0;34m.\u001b[0m\u001b[0mread\u001b[0m\u001b[0;34m(\u001b[0m\u001b[0mstr\u001b[0m\u001b[0;34m(\u001b[0m\u001b[0;34m\"05_BUstep_calc_comp_4_natU_99N15/01_5000d_non_discrete/wh_lfr_dep.m\"\u001b[0m\u001b[0;34m)\u001b[0m\u001b[0;34m)\u001b[0m\u001b[0;34m\u001b[0m\u001b[0;34m\u001b[0m\u001b[0m\n\u001b[1;32m     13\u001b[0m \u001b[0;34m\u001b[0m\u001b[0m\n",
      "\u001b[0;32m~/repos/01_wh_lfr/.direnv/python-3.7.13/lib/python3.7/site-packages/serpentTools/parsers/__init__.py\u001b[0m in \u001b[0;36mread\u001b[0;34m(filePath, reader)\u001b[0m\n\u001b[1;32m    151\u001b[0m         \u001b[0mloader\u001b[0m \u001b[0;34m=\u001b[0m \u001b[0mreader\u001b[0m\u001b[0;34m\u001b[0m\u001b[0;34m\u001b[0m\u001b[0m\n\u001b[1;32m    152\u001b[0m     \u001b[0mreturnedFromLoader\u001b[0m \u001b[0;34m=\u001b[0m \u001b[0mloader\u001b[0m\u001b[0;34m(\u001b[0m\u001b[0mfilePath\u001b[0m\u001b[0;34m)\u001b[0m\u001b[0;34m\u001b[0m\u001b[0;34m\u001b[0m\u001b[0m\n\u001b[0;32m--> 153\u001b[0;31m     \u001b[0mreturnedFromLoader\u001b[0m\u001b[0;34m.\u001b[0m\u001b[0mread\u001b[0m\u001b[0;34m(\u001b[0m\u001b[0;34m)\u001b[0m\u001b[0;34m\u001b[0m\u001b[0;34m\u001b[0m\u001b[0m\n\u001b[0m\u001b[1;32m    154\u001b[0m     \u001b[0;32mreturn\u001b[0m \u001b[0mreturnedFromLoader\u001b[0m\u001b[0;34m\u001b[0m\u001b[0;34m\u001b[0m\u001b[0m\n\u001b[1;32m    155\u001b[0m \u001b[0;34m\u001b[0m\u001b[0m\n",
      "\u001b[0;32m~/repos/01_wh_lfr/.direnv/python-3.7.13/lib/python3.7/site-packages/serpentTools/parsers/base.py\u001b[0m in \u001b[0;36mread\u001b[0;34m(self)\u001b[0m\n\u001b[1;32m     45\u001b[0m         \"\"\"\n\u001b[1;32m     46\u001b[0m         \u001b[0minfo\u001b[0m\u001b[0;34m(\u001b[0m\u001b[0;34m\"Reading {}\"\u001b[0m\u001b[0;34m.\u001b[0m\u001b[0mformat\u001b[0m\u001b[0;34m(\u001b[0m\u001b[0mself\u001b[0m\u001b[0;34m.\u001b[0m\u001b[0mfilePath\u001b[0m\u001b[0;34m)\u001b[0m\u001b[0;34m)\u001b[0m\u001b[0;34m\u001b[0m\u001b[0;34m\u001b[0m\u001b[0m\n\u001b[0;32m---> 47\u001b[0;31m         \u001b[0mself\u001b[0m\u001b[0;34m.\u001b[0m\u001b[0m_precheck\u001b[0m\u001b[0;34m(\u001b[0m\u001b[0;34m)\u001b[0m\u001b[0;34m\u001b[0m\u001b[0;34m\u001b[0m\u001b[0m\n\u001b[0m\u001b[1;32m     48\u001b[0m         \u001b[0mself\u001b[0m\u001b[0;34m.\u001b[0m\u001b[0m_read\u001b[0m\u001b[0;34m(\u001b[0m\u001b[0;34m)\u001b[0m\u001b[0;34m\u001b[0m\u001b[0;34m\u001b[0m\u001b[0m\n\u001b[1;32m     49\u001b[0m         \u001b[0minfo\u001b[0m\u001b[0;34m(\u001b[0m\u001b[0;34m\"  - done\"\u001b[0m\u001b[0;34m)\u001b[0m\u001b[0;34m\u001b[0m\u001b[0;34m\u001b[0m\u001b[0m\n",
      "\u001b[0;32m~/repos/01_wh_lfr/.direnv/python-3.7.13/lib/python3.7/site-packages/serpentTools/parsers/results.py\u001b[0m in \u001b[0;36m_precheck\u001b[0;34m(self)\u001b[0m\n\u001b[1;32m    507\u001b[0m         \u001b[0munivSet\u001b[0m \u001b[0;34m=\u001b[0m \u001b[0mset\u001b[0m\u001b[0;34m(\u001b[0m\u001b[0;34m)\u001b[0m\u001b[0;34m\u001b[0m\u001b[0;34m\u001b[0m\u001b[0m\n\u001b[1;32m    508\u001b[0m         \u001b[0mverWarning\u001b[0m \u001b[0;34m=\u001b[0m \u001b[0;32mTrue\u001b[0m\u001b[0;34m\u001b[0m\u001b[0;34m\u001b[0m\u001b[0m\n\u001b[0;32m--> 509\u001b[0;31m         \u001b[0;32mwith\u001b[0m \u001b[0mopen\u001b[0m\u001b[0;34m(\u001b[0m\u001b[0mself\u001b[0m\u001b[0;34m.\u001b[0m\u001b[0mfilePath\u001b[0m\u001b[0;34m)\u001b[0m \u001b[0;32mas\u001b[0m \u001b[0mfid\u001b[0m\u001b[0;34m:\u001b[0m\u001b[0;34m\u001b[0m\u001b[0;34m\u001b[0m\u001b[0m\n\u001b[0m\u001b[1;32m    510\u001b[0m             \u001b[0;32mif\u001b[0m \u001b[0mfid\u001b[0m \u001b[0;32mis\u001b[0m \u001b[0;32mNone\u001b[0m\u001b[0;34m:\u001b[0m\u001b[0;34m\u001b[0m\u001b[0;34m\u001b[0m\u001b[0m\n\u001b[1;32m    511\u001b[0m                 raise IOError(\"Attempting to read on a closed file.\\n\"\n",
      "\u001b[0;31mFileNotFoundError\u001b[0m: [Errno 2] No such file or directory: '05_BUstep_calc_comp_4_natU_99N15/01_5000d_non_discrete/wh_lfr_res.m'"
     ]
    }
   ],
   "source": [
    "import copy\n",
    "from typing import List\n",
    "from pathlib import Path\n",
    "\n",
    "import numpy as np\n",
    "import pandas as pd\n",
    "import matplotlib.pyplot as plt\n",
    "import serpentTools\n",
    "from serpentTools.parsers.results import ResultsReader\n",
    "\n",
    "res1 = serpentTools.read(str(\"05_BUstep_calc_comp_4_natU_99N15/01_5000d_non_discrete/wh_lfr_res.m\"))\n",
    "dep1 = serpentTools.read(str(\"05_BUstep_calc_comp_4_natU_99N15/01_5000d_non_discrete/wh_lfr_dep.m\"))\n",
    "\n",
    "res2 = serpentTools.read(str(\"05_BUstep_calc_comp_4_natU_99N15/02_5000d_discrete/wh_lfr_res.m\"))\n",
    "dep2 = serpentTools.read(str(\"05_BUstep_calc_comp_4_natU_99N15/02_5000d_discrete/wh_lfr_dep.m\"))\n",
    "total1 = dep1.materials['total']\n",
    "total2 = dep2.materials['total']"
   ]
  },
  {
   "cell_type": "code",
   "execution_count": null,
   "id": "638de5f3-e57c-495e-b153-84f3c666e428",
   "metadata": {},
   "outputs": [],
   "source": [
    "#dep1.materials.keys()\n",
    "total1.data.keys()\n",
    "dep1.zais\n",
    "depl1.plot('burnup', 'adens', zai=[942410, 942411]);"
   ]
  },
  {
   "cell_type": "code",
   "execution_count": null,
   "id": "0d3fbeee-0d2f-49ac-8d7a-95ea30becb32",
   "metadata": {},
   "outputs": [],
   "source": [
    "sorted(res1.resdata.keys())"
   ]
  },
  {
   "cell_type": "code",
   "execution_count": null,
   "id": "3014d926-b862-4648-bbfe-4a7a8685e1f9",
   "metadata": {},
   "outputs": [],
   "source": [
    "res1[\"absKeff\"], res1[\"burnup\"], #res1[\"burnDays\"]"
   ]
  },
  {
   "cell_type": "code",
   "execution_count": null,
   "id": "464fe89e-94a0-4d21-bcf0-29a3f35e3ba8",
   "metadata": {},
   "outputs": [],
   "source": [
    "res2[\"absKeff\"], res2[\"burnup\"]"
   ]
  },
  {
   "cell_type": "code",
   "execution_count": null,
   "id": "60186abd-95a6-4d1f-9b0f-b0a3614bbde3",
   "metadata": {},
   "outputs": [],
   "source": []
  }
 ],
 "metadata": {
  "kernelspec": {
   "display_name": "Python 3.7.13 ('python-3.7.13': venv)",
   "language": "python",
   "name": "python3"
  },
  "language_info": {
   "codemirror_mode": {
    "name": "ipython",
    "version": 3
   },
   "file_extension": ".py",
   "mimetype": "text/x-python",
   "name": "python",
   "nbconvert_exporter": "python",
   "pygments_lexer": "ipython3",
   "version": "3.7.13"
  },
  "vscode": {
   "interpreter": {
    "hash": "a3555c87b49629362fabc3362130a878e1af7e8f15ed123867dbaf9165c66537"
   }
  }
 },
 "nbformat": 4,
 "nbformat_minor": 5
}
