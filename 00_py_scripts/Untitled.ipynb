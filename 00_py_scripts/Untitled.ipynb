{
 "cells": [
  {
   "cell_type": "code",
   "execution_count": null,
   "id": "d945dd0d-b3ac-4f85-adb2-aafaebff07a2",
   "metadata": {},
   "outputs": [],
   "source": [
    "import copy\n",
    "from typing import List\n",
    "from pathlib import Path\n",
    "\n",
    "import numpy as np\n",
    "import pandas as pd\n",
    "import matplotlib.pyplot as plt\n",
    "import serpentTools\n",
    "from serpentTools.parsers.results import ResultsReader\n",
    "\n",
    "res1 = serpentTools.read(str(\"05_BUstep_calc_comp_4_natU_99N15/01_5000d_non_discrete/wh_lfr_res.m\"))\n",
    "dep1 = serpentTools.read(str(\"05_BUstep_calc_comp_4_natU_99N15/01_5000d_non_discrete/wh_lfr_dep.m\"))\n",
    "\n",
    "res2 = serpentTools.read(str(\"05_BUstep_calc_comp_4_natU_99N15/02_5000d_discrete/wh_lfr_res.m\"))\n",
    "dep2 = serpentTools.read(str(\"05_BUstep_calc_comp_4_natU_99N15/02_5000d_discrete/wh_lfr_dep.m\"))\n",
    "total1 = dep1.materials['total']\n",
    "total2 = dep2.materials['total']"
   ]
  },
  {
   "cell_type": "code",
   "execution_count": null,
   "id": "638de5f3-e57c-495e-b153-84f3c666e428",
   "metadata": {},
   "outputs": [],
   "source": [
    "#dep1.materials.keys()\n",
    "total1.data.keys()\n",
    "dep1.zais\n",
    "depl1.plot('burnup', 'adens', zai=[942410, 942411]);"
   ]
  },
  {
   "cell_type": "code",
   "execution_count": null,
   "id": "0d3fbeee-0d2f-49ac-8d7a-95ea30becb32",
   "metadata": {},
   "outputs": [],
   "source": [
    "sorted(res1.resdata.keys())"
   ]
  },
  {
   "cell_type": "code",
   "execution_count": null,
   "id": "3014d926-b862-4648-bbfe-4a7a8685e1f9",
   "metadata": {},
   "outputs": [],
   "source": [
    "res1[\"absKeff\"], res1[\"burnup\"], #res1[\"burnDays\"]"
   ]
  },
  {
   "cell_type": "code",
   "execution_count": null,
   "id": "464fe89e-94a0-4d21-bcf0-29a3f35e3ba8",
   "metadata": {},
   "outputs": [],
   "source": [
    "res2[\"absKeff\"], res2[\"burnup\"]"
   ]
  },
  {
   "cell_type": "code",
   "execution_count": null,
   "id": "60186abd-95a6-4d1f-9b0f-b0a3614bbde3",
   "metadata": {},
   "outputs": [],
   "source": []
  }
 ],
 "metadata": {
  "kernelspec": {
   "display_name": "Python 3 (ipykernel)",
   "language": "python",
   "name": "python3"
  },
  "language_info": {
   "codemirror_mode": {
    "name": "ipython",
    "version": 3
   },
   "file_extension": ".py",
   "mimetype": "text/x-python",
   "name": "python",
   "nbconvert_exporter": "python",
   "pygments_lexer": "ipython3",
   "version": "3.7.13"
  }
 },
 "nbformat": 4,
 "nbformat_minor": 5
}
