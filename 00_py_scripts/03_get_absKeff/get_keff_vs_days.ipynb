{
 "cells": [
  {
   "cell_type": "code",
   "execution_count": 2,
   "id": "5ce7afd6-910e-4348-ab0d-d9a37720a3b5",
   "metadata": {},
   "outputs": [
    {
     "name": "stdout",
     "output_type": "stream",
     "text": [
      "[[2.34824e-01 4.00000e-04]\n",
      " [5.40643e-01 2.90000e-04]\n",
      " [5.35111e-01 2.80000e-04]\n",
      " [6.75001e-01 2.60000e-04]\n",
      " [6.64950e-01 2.50000e-04]\n",
      " [7.37914e-01 2.60000e-04]\n",
      " [7.26108e-01 2.60000e-04]\n",
      " [7.72286e-01 2.30000e-04]\n",
      " [7.60263e-01 2.50000e-04]\n",
      " [7.93464e-01 2.30000e-04]\n",
      " [7.80974e-01 2.50000e-04]\n",
      " [8.06185e-01 2.40000e-04]\n",
      " [7.93476e-01 2.40000e-04]\n",
      " [8.14559e-01 2.30000e-04]\n",
      " [8.02070e-01 2.40000e-04]\n",
      " [8.20833e-01 2.20000e-04]\n",
      " [8.08590e-01 2.40000e-04]\n",
      " [8.25259e-01 2.30000e-04]\n",
      " [8.12384e-01 2.20000e-04]\n",
      " [8.27376e-01 2.20000e-04]\n",
      " [8.16186e-01 2.30000e-04]\n",
      " [8.30247e-01 2.20000e-04]\n",
      " [8.24861e-01 2.30000e-04]\n",
      " [8.35494e-01 2.20000e-04]\n",
      " [8.31437e-01 2.20000e-04]\n",
      " [8.39580e-01 2.20000e-04]\n",
      " [8.38333e-01 2.30000e-04]\n",
      " [8.43762e-01 2.20000e-04]\n",
      " [8.42328e-01 2.30000e-04]\n",
      " [8.46885e-01 2.30000e-04]\n",
      " [8.44653e-01 2.20000e-04]\n",
      " [8.48536e-01 2.20000e-04]\n",
      " [8.46017e-01 2.20000e-04]\n",
      " [8.49690e-01 2.20000e-04]\n",
      " [8.47908e-01 2.20000e-04]\n",
      " [8.51713e-01 2.20000e-04]\n",
      " [8.50210e-01 2.20000e-04]\n",
      " [8.54274e-01 2.20000e-04]\n",
      " [8.55271e-01 2.20000e-04]\n",
      " [8.59270e-01 2.00000e-04]\n",
      " [8.61614e-01 2.10000e-04]\n",
      " [8.65375e-01 2.20000e-04]\n",
      " [8.70094e-01 2.20000e-04]\n",
      " [8.73085e-01 2.10000e-04]\n",
      " [8.77005e-01 2.10000e-04]\n",
      " [8.79612e-01 2.10000e-04]\n",
      " [8.83289e-01 2.20000e-04]\n",
      " [8.86104e-01 2.20000e-04]\n",
      " [8.89939e-01 2.10000e-04]\n",
      " [8.92346e-01 2.10000e-04]\n",
      " [8.95712e-01 2.10000e-04]\n",
      " [8.98049e-01 2.10000e-04]\n",
      " [9.01025e-01 2.20000e-04]\n",
      " [9.03214e-01 2.10000e-04]\n",
      " [9.05350e-01 2.20000e-04]\n",
      " [9.08105e-01 2.00000e-04]\n",
      " [9.11204e-01 2.10000e-04]\n",
      " [9.12714e-01 2.00000e-04]\n",
      " [9.15266e-01 2.00000e-04]\n",
      " [9.17097e-01 2.00000e-04]\n",
      " [9.19551e-01 2.00000e-04]\n",
      " [9.21730e-01 2.00000e-04]\n",
      " [9.24447e-01 2.00000e-04]\n",
      " [9.26623e-01 2.00000e-04]\n",
      " [9.29674e-01 2.10000e-04]\n",
      " [9.31680e-01 2.00000e-04]\n",
      " [9.35532e-01 2.00000e-04]\n",
      " [9.36663e-01 1.90000e-04]\n",
      " [9.40791e-01 1.90000e-04]\n",
      " [9.42029e-01 2.10000e-04]\n",
      " [9.46431e-01 2.00000e-04]\n",
      " [9.46264e-01 2.00000e-04]\n",
      " [9.49812e-01 1.90000e-04]\n",
      " [9.49307e-01 1.90000e-04]\n",
      " [9.53501e-01 2.00000e-04]\n",
      " [9.52658e-01 2.10000e-04]\n",
      " [9.55530e-01 2.00000e-04]\n",
      " [9.54404e-01 2.00000e-04]\n",
      " [9.57701e-01 2.00000e-04]\n",
      " [9.56524e-01 2.00000e-04]\n",
      " [9.58959e-01 2.10000e-04]\n",
      " [9.57593e-01 2.10000e-04]\n",
      " [9.61224e-01 2.00000e-04]\n",
      " [9.59473e-01 1.90000e-04]\n",
      " [9.62393e-01 2.00000e-04]\n",
      " [9.60982e-01 2.00000e-04]\n",
      " [9.63805e-01 1.90000e-04]\n",
      " [9.62041e-01 2.10000e-04]\n",
      " [9.64518e-01 1.90000e-04]\n",
      " [9.62923e-01 2.00000e-04]]\n"
     ]
    },
    {
     "name": "stderr",
     "output_type": "stream",
     "text": [
      "Executing <Task pending coro=<Kernel.dispatch_queue() running at /misc/home/stalex/01_work/01_wh_lfr/.direnv/python-3.7.13/lib/python3.7/site-packages/ipykernel/kernelbase.py:510> wait_for=<Future pending cb=[<TaskWakeupMethWrapper object at 0x2b646935c840>()] created at /misc/home/stalex/01_work/01_wh_lfr/.direnv/python-3.7.13/lib/python3.7/site-packages/tornado/queues.py:248> cb=[IOLoop.add_future.<locals>.<lambda>() at /misc/home/stalex/01_work/01_wh_lfr/.direnv/python-3.7.13/lib/python3.7/site-packages/tornado/ioloop.py:687] created at /misc/home/stalex/01_work/01_wh_lfr/.direnv/python-3.7.13/lib/python3.7/site-packages/tornado/gen.py:874> took 0.514 seconds\n"
     ]
    }
   ],
   "source": [
    "import copy\n",
    "from typing import List\n",
    "from pathlib import Path\n",
    "\n",
    "import numpy as np\n",
    "import pandas as pd\n",
    "import matplotlib.pyplot as plt\n",
    "import serpentTools\n",
    "from serpentTools.parsers.results import ResultsReader\n",
    "\n",
    "serpentTools.settings.rc[\"serpentVersion\"] = \"2.1.32\"\n",
    "\n",
    "BASE_PATH = Path(\"10_dep_150d/\")\n",
    "\n",
    "def pathconstructor(index):\n",
    "    return BASE_PATH/f\"wh_lfrsuffleNo{index}/wh_lfr_res.m\"\n",
    "    #return BASE_PATH/f\"wh_lfr_res.m\"\n",
    "\n",
    "res_list = []\n",
    "for index in range(100):\n",
    "    if Path.exists(pathconstructor(index)):\n",
    "        with serpentTools.settings.rc:\n",
    "            serpentTools.settings.rc[\"verbosity\"] = \"error\"\n",
    "            res = serpentTools.read(str(pathconstructor(index)))\n",
    "        res_list.append(res)\n",
    "    \n",
    "res_total = []\n",
    "for res in res_list:\n",
    "    res_total.append(res.resdata)\n",
    "    \n",
    "res_total_complete = copy.deepcopy(res_total[0])\n",
    "for index in range(1,len(res_total)):\n",
    "    for key in res_total[0].keys():\n",
    "        if key == \"absKeff\":\n",
    "            res_bu_sum = res_total[index][key]\n",
    "            res_total_complete[key] = np.vstack((res_total_complete[key], res_bu_sum))\n",
    "        \n",
    "print(res_total_complete[\"absKeff\"])"
   ]
  },
  {
   "cell_type": "code",
   "execution_count": 101,
   "id": "6c12d434-f686-4603-b034-b9172c550ad0",
   "metadata": {},
   "outputs": [],
   "source": [
    "# HOW TO EXCELL"
   ]
  },
  {
   "cell_type": "code",
   "execution_count": 97,
   "id": "fcca7d6e-e564-4ed5-9927-6c8b092ddf66",
   "metadata": {},
   "outputs": [
    {
     "data": {
      "text/plain": [
       "199"
      ]
     },
     "execution_count": 97,
     "metadata": {},
     "output_type": "execute_result"
    }
   ],
   "source": [
    "len(res_total_complete.keys())"
   ]
  },
  {
   "cell_type": "code",
   "execution_count": 99,
   "id": "5b43e7a3-9419-4873-a9ec-005360883cb7",
   "metadata": {},
   "outputs": [
    {
     "data": {
      "text/plain": [
       "'2.1.32'"
      ]
     },
     "execution_count": 99,
     "metadata": {},
     "output_type": "execute_result"
    }
   ],
   "source": [
    "serpentTools.settings.rc[\"serpentVersion\"]"
   ]
  },
  {
   "cell_type": "code",
   "execution_count": null,
   "id": "88381058-1353-4541-b76e-dade60f64174",
   "metadata": {},
   "outputs": [],
   "source": []
  },
  {
   "cell_type": "code",
   "execution_count": null,
   "id": "d7cd71ca-2ee4-46ba-8133-2f15733046e1",
   "metadata": {},
   "outputs": [],
   "source": []
  },
  {
   "cell_type": "code",
   "execution_count": null,
   "id": "0184c7d6-ad51-443b-869e-d810de373e9e",
   "metadata": {},
   "outputs": [],
   "source": []
  },
  {
   "cell_type": "code",
   "execution_count": null,
   "id": "325b4d33-efa8-4956-843d-f670ddaddd07",
   "metadata": {},
   "outputs": [],
   "source": []
  },
  {
   "cell_type": "code",
   "execution_count": null,
   "id": "bb8122c3-38cd-45d6-be86-09a4eeede01a",
   "metadata": {},
   "outputs": [],
   "source": []
  },
  {
   "cell_type": "code",
   "execution_count": null,
   "id": "6ac8c52b-500d-4d59-a00f-60c3f5aa70e4",
   "metadata": {},
   "outputs": [],
   "source": []
  },
  {
   "cell_type": "code",
   "execution_count": null,
   "id": "b975423a-2e47-499b-ad09-556f9c2d715a",
   "metadata": {},
   "outputs": [],
   "source": []
  },
  {
   "cell_type": "code",
   "execution_count": null,
   "id": "bc2b2d1f-99ac-4ae8-bcef-4edea68e3637",
   "metadata": {},
   "outputs": [],
   "source": []
  },
  {
   "cell_type": "code",
   "execution_count": null,
   "id": "5f2ecdd9-5031-4ef1-803d-395196620127",
   "metadata": {},
   "outputs": [],
   "source": []
  },
  {
   "cell_type": "code",
   "execution_count": null,
   "id": "2c98a0b4-5d6b-401b-9936-567e1c9c494e",
   "metadata": {},
   "outputs": [],
   "source": [
    "total_data_plotter = ResultsReader(\"\")\n",
    "total_data_plotter.resdata = res_total_complete\n",
    "total_data_plotter.plot(\"absKeff\")\n",
    "plt.show()"
   ]
  },
  {
   "cell_type": "code",
   "execution_count": null,
   "id": "11b55dc3-7570-4f0e-bddf-a0a83c6c8393",
   "metadata": {},
   "outputs": [],
   "source": [
    "sorted(res_total_complete.keys())"
   ]
  },
  {
   "cell_type": "code",
   "execution_count": null,
   "id": "980d3535-c708-4d7d-b466-e8efed51c1c3",
   "metadata": {},
   "outputs": [],
   "source": []
  }
 ],
 "metadata": {
  "kernelspec": {
   "display_name": "Python 3 (ipykernel)",
   "language": "python",
   "name": "python3"
  },
  "language_info": {
   "codemirror_mode": {
    "name": "ipython",
    "version": 3
   },
   "file_extension": ".py",
   "mimetype": "text/x-python",
   "name": "python",
   "nbconvert_exporter": "python",
   "pygments_lexer": "ipython3",
   "version": "3.7.13"
  }
 },
 "nbformat": 4,
 "nbformat_minor": 5
}
