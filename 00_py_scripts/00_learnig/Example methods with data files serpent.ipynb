{
 "cells": [
  {
   "cell_type": "code",
   "execution_count": null,
   "id": "0fac5c60",
   "metadata": {},
   "outputs": [],
   "source": [
    "import serpentTools\n",
    "from serpentTools.settings import rc\n",
    "import matplotlib.pyplot as plt \n",
    "import numpy as np"
   ]
  },
  {
   "cell_type": "code",
   "execution_count": null,
   "id": "11526176",
   "metadata": {},
   "outputs": [],
   "source": [
    "depFile = 'demo_dep.m'\n",
    "dep = serpentTools.readDataFile(depFile)"
   ]
  },
  {
   "cell_type": "code",
   "execution_count": null,
   "id": "f086d604",
   "metadata": {},
   "outputs": [],
   "source": [
    "dir(dep)"
   ]
  },
  {
   "cell_type": "code",
   "execution_count": null,
   "id": "9d08bad2",
   "metadata": {},
   "outputs": [],
   "source": [
    "type(dep.burnup)"
   ]
  },
  {
   "cell_type": "code",
   "execution_count": null,
   "id": "15f46595",
   "metadata": {
    "scrolled": true
   },
   "outputs": [],
   "source": [
    "dep.burnup"
   ]
  },
  {
   "cell_type": "code",
   "execution_count": null,
   "id": "37936365",
   "metadata": {},
   "outputs": [],
   "source": [
    "plt.plot(dep.burnup)"
   ]
  },
  {
   "cell_type": "code",
   "execution_count": null,
   "id": "1cee34ed",
   "metadata": {},
   "outputs": [],
   "source": [
    "dep.materials"
   ]
  },
  {
   "cell_type": "code",
   "execution_count": null,
   "id": "86480cb8",
   "metadata": {},
   "outputs": [],
   "source": [
    "dep.materials['fuel0']"
   ]
  },
  {
   "cell_type": "code",
   "execution_count": null,
   "id": "bf7352fb",
   "metadata": {},
   "outputs": [],
   "source": [
    "dir(dep.materials['fuel0'])"
   ]
  },
  {
   "cell_type": "code",
   "execution_count": null,
   "id": "81756785",
   "metadata": {},
   "outputs": [],
   "source": [
    "dep.materials['fuel0'].spontaneousFissionRate.shape"
   ]
  },
  {
   "cell_type": "code",
   "execution_count": null,
   "id": "6898b6dc",
   "metadata": {},
   "outputs": [],
   "source": [
    "plt.plot(dep.materials['fuel0'].burnup, dep.materials['fuel0'].spontaneousFissionRate[7:10].T)"
   ]
  },
  {
   "cell_type": "code",
   "execution_count": null,
   "id": "85d539c6",
   "metadata": {},
   "outputs": [],
   "source": [
    "dep.materials['fuel0'].burnup"
   ]
  },
  {
   "cell_type": "code",
   "execution_count": null,
   "id": "a1cf9c5c",
   "metadata": {},
   "outputs": [],
   "source": [
    "dep.materials['fuel0'].adens"
   ]
  },
  {
   "cell_type": "code",
   "execution_count": null,
   "id": "6f2649a7",
   "metadata": {},
   "outputs": [],
   "source": [
    "stacked_array = np.vstack((dep.materials['fuel0'].burnup, dep.materials['fuel0'].adens))"
   ]
  },
  {
   "cell_type": "code",
   "execution_count": null,
   "id": "fbb0c768",
   "metadata": {},
   "outputs": [],
   "source": [
    "stacked_array[0] == dep.materials['fuel0'].burnup"
   ]
  },
  {
   "cell_type": "code",
   "execution_count": null,
   "id": "3b0c7a53",
   "metadata": {},
   "outputs": [],
   "source": [
    "stacked_array[1:] == dep.materials['fuel0'].adens"
   ]
  },
  {
   "cell_type": "code",
   "execution_count": null,
   "id": "c3f6c585",
   "metadata": {},
   "outputs": [],
   "source": [
    "import pandas as pd "
   ]
  },
  {
   "cell_type": "code",
   "execution_count": null,
   "id": "1ca4ee8e",
   "metadata": {},
   "outputs": [],
   "source": [
    "columns = [i for i in range(stacked_array.shape[1])]"
   ]
  },
  {
   "cell_type": "code",
   "execution_count": null,
   "id": "dcdead86",
   "metadata": {},
   "outputs": [],
   "source": [
    "df = pd.DataFrame(data=stacked_array, columns=dep.materials['fuel0'].burnup)"
   ]
  },
  {
   "cell_type": "code",
   "execution_count": null,
   "id": "304cb8db",
   "metadata": {},
   "outputs": [],
   "source": [
    "# Maybe this was the method to expoert to csv df.to_csv(\"file_name.csv\")"
   ]
  },
  {
   "cell_type": "code",
   "execution_count": null,
   "id": "f56f6065",
   "metadata": {},
   "outputs": [],
   "source": [
    "fuel_0_burnup = dep.materials['fuel0'].burnup\n",
    "atomic_density = dep.materials['fuel0'].adens\n",
    "\n",
    "for row_idx in range(2):\n",
    "    plt.plot(fuel_0_burnup, atomic_density[row_idx])"
   ]
  },
  {
   "cell_type": "code",
   "execution_count": null,
   "id": "cb5ef04a",
   "metadata": {},
   "outputs": [],
   "source": [
    "matrix = np.array([[1,2],[3,4]])"
   ]
  },
  {
   "cell_type": "code",
   "execution_count": null,
   "id": "3c0bf772",
   "metadata": {},
   "outputs": [],
   "source": [
    "matrix"
   ]
  }
 ],
 "metadata": {
  "kernelspec": {
   "display_name": "Python 3 (ipykernel)",
   "language": "python",
   "name": "python3"
  },
  "language_info": {
   "codemirror_mode": {
    "name": "ipython",
    "version": 3
   },
   "file_extension": ".py",
   "mimetype": "text/x-python",
   "name": "python",
   "nbconvert_exporter": "python",
   "pygments_lexer": "ipython3",
   "version": "3.7.13"
  }
 },
 "nbformat": 4,
 "nbformat_minor": 5
}
