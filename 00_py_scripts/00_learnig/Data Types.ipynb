{
 "cells": [
  {
   "cell_type": "code",
   "execution_count": 1,
   "id": "42128c9d",
   "metadata": {},
   "outputs": [],
   "source": [
    "integer_primitive = 3\n",
    "float_primitive = 3.0\n",
    "string_primitive = \"Alexandru\"\n",
    "tupple_primitive = (1, 2, 3, 4, 5, \"Alexandru\")\n",
    "list_primitive = [\"1\", \"2\", \"3\"]"
   ]
  },
  {
   "cell_type": "markdown",
   "id": "b48602dd",
   "metadata": {},
   "source": [
    "# String methods"
   ]
  },
  {
   "cell_type": "code",
   "execution_count": 2,
   "id": "09aa1905",
   "metadata": {},
   "outputs": [
    {
     "data": {
      "text/plain": [
       "'Alexandru'"
      ]
     },
     "execution_count": 2,
     "metadata": {},
     "output_type": "execute_result"
    }
   ],
   "source": [
    "string_primitive"
   ]
  },
  {
   "cell_type": "code",
   "execution_count": 3,
   "id": "a6ee80e5",
   "metadata": {},
   "outputs": [
    {
     "data": {
      "text/plain": [
       "'Alexandru Stafie'"
      ]
     },
     "execution_count": 3,
     "metadata": {},
     "output_type": "execute_result"
    }
   ],
   "source": [
    "string_primitive + \" Stafie\""
   ]
  },
  {
   "cell_type": "code",
   "execution_count": 4,
   "id": "186d123a",
   "metadata": {},
   "outputs": [
    {
     "data": {
      "text/plain": [
       "9"
      ]
     },
     "execution_count": 4,
     "metadata": {},
     "output_type": "execute_result"
    }
   ],
   "source": [
    "len(string_primitive)"
   ]
  },
  {
   "cell_type": "code",
   "execution_count": 5,
   "id": "d6947289",
   "metadata": {},
   "outputs": [
    {
     "ename": "TypeError",
     "evalue": "'str' object does not support item assignment",
     "output_type": "error",
     "traceback": [
      "\u001b[0;31m---------------------------------------------------------------------------\u001b[0m",
      "\u001b[0;31mTypeError\u001b[0m                                 Traceback (most recent call last)",
      "\u001b[0;32m/tmp/ipykernel_7757/2927779135.py\u001b[0m in \u001b[0;36m<module>\u001b[0;34m\u001b[0m\n\u001b[0;32m----> 1\u001b[0;31m \u001b[0mstring_primitive\u001b[0m\u001b[0;34m[\u001b[0m\u001b[0;36m3\u001b[0m\u001b[0;34m]\u001b[0m \u001b[0;34m=\u001b[0m \u001b[0;36m1\u001b[0m \u001b[0;31m# String primitives are immutable objects\u001b[0m\u001b[0;34m\u001b[0m\u001b[0;34m\u001b[0m\u001b[0m\n\u001b[0m",
      "\u001b[0;31mTypeError\u001b[0m: 'str' object does not support item assignment"
     ]
    }
   ],
   "source": [
    "string_primitive[3] = 1 # String primitives are immutable objects"
   ]
  },
  {
   "cell_type": "markdown",
   "id": "d9c8da13",
   "metadata": {},
   "source": [
    "# Tupple primitive"
   ]
  },
  {
   "cell_type": "code",
   "execution_count": null,
   "id": "a66528e7",
   "metadata": {},
   "outputs": [
    {
     "data": {
      "text/plain": [
       "(1, 2, 3, 4, 5, 'Alexandru')"
      ]
     },
     "execution_count": 56,
     "metadata": {},
     "output_type": "execute_result"
    }
   ],
   "source": [
    "tupple_primitive"
   ]
  },
  {
   "cell_type": "code",
   "execution_count": null,
   "id": "3c33888e",
   "metadata": {},
   "outputs": [
    {
     "data": {
      "text/plain": [
       "1"
      ]
     },
     "execution_count": 57,
     "metadata": {},
     "output_type": "execute_result"
    }
   ],
   "source": [
    "tupple_primitive[0] #element access"
   ]
  },
  {
   "cell_type": "code",
   "execution_count": null,
   "id": "5a3d7d8a",
   "metadata": {},
   "outputs": [],
   "source": [
    "two_numbers = (1, 2)"
   ]
  },
  {
   "cell_type": "code",
   "execution_count": null,
   "id": "59a900f8",
   "metadata": {},
   "outputs": [],
   "source": [
    "first_num, second_num = two_numbers"
   ]
  },
  {
   "cell_type": "code",
   "execution_count": null,
   "id": "1d4832c5",
   "metadata": {},
   "outputs": [
    {
     "data": {
      "text/plain": [
       "1"
      ]
     },
     "execution_count": 60,
     "metadata": {},
     "output_type": "execute_result"
    }
   ],
   "source": [
    "first_num"
   ]
  },
  {
   "cell_type": "code",
   "execution_count": null,
   "id": "95641fab",
   "metadata": {},
   "outputs": [
    {
     "data": {
      "text/plain": [
       "2"
      ]
     },
     "execution_count": 61,
     "metadata": {},
     "output_type": "execute_result"
    }
   ],
   "source": [
    "second_num"
   ]
  },
  {
   "cell_type": "code",
   "execution_count": null,
   "id": "8e36fa00",
   "metadata": {},
   "outputs": [
    {
     "data": {
      "text/plain": [
       "6"
      ]
     },
     "execution_count": 62,
     "metadata": {},
     "output_type": "execute_result"
    }
   ],
   "source": [
    "len(tupple_primitive)"
   ]
  },
  {
   "cell_type": "code",
   "execution_count": null,
   "id": "fd0bd44b",
   "metadata": {},
   "outputs": [],
   "source": [
    "first_elem, second_elem, *_ = tupple_primitive"
   ]
  },
  {
   "cell_type": "code",
   "execution_count": null,
   "id": "f21191df",
   "metadata": {},
   "outputs": [
    {
     "data": {
      "text/plain": [
       "1"
      ]
     },
     "execution_count": 64,
     "metadata": {},
     "output_type": "execute_result"
    }
   ],
   "source": [
    "first_elem"
   ]
  },
  {
   "cell_type": "code",
   "execution_count": null,
   "id": "dba2ce24",
   "metadata": {},
   "outputs": [
    {
     "data": {
      "text/plain": [
       "2"
      ]
     },
     "execution_count": 65,
     "metadata": {},
     "output_type": "execute_result"
    }
   ],
   "source": [
    "second_elem"
   ]
  },
  {
   "cell_type": "code",
   "execution_count": null,
   "id": "6b9e21e0",
   "metadata": {
    "scrolled": true
   },
   "outputs": [
    {
     "ename": "TypeError",
     "evalue": "'tuple' object does not support item assignment",
     "output_type": "error",
     "traceback": [
      "\u001b[0;31m---------------------------------------------------------------------------\u001b[0m",
      "\u001b[0;31mTypeError\u001b[0m                                 Traceback (most recent call last)",
      "Cell \u001b[0;32mIn [66], line 1\u001b[0m\n\u001b[0;32m----> 1\u001b[0m tupple_primitive[\u001b[38;5;241m0\u001b[39m] \u001b[38;5;241m=\u001b[39m \u001b[38;5;241m1\u001b[39m\n",
      "\u001b[0;31mTypeError\u001b[0m: 'tuple' object does not support item assignment"
     ]
    }
   ],
   "source": [
    "tupple_primitive[0] = 1 # Tupples are also Immutable !"
   ]
  },
  {
   "cell_type": "markdown",
   "id": "7e335e91",
   "metadata": {},
   "source": [
    "# List Primitive"
   ]
  },
  {
   "cell_type": "code",
   "execution_count": null,
   "id": "df144178",
   "metadata": {},
   "outputs": [
    {
     "data": {
      "text/plain": [
       "['1', '2', '3']"
      ]
     },
     "execution_count": 67,
     "metadata": {},
     "output_type": "execute_result"
    }
   ],
   "source": [
    "list_primitive"
   ]
  },
  {
   "cell_type": "code",
   "execution_count": null,
   "id": "05d62cb3",
   "metadata": {},
   "outputs": [
    {
     "data": {
      "text/plain": [
       "3"
      ]
     },
     "execution_count": 68,
     "metadata": {},
     "output_type": "execute_result"
    }
   ],
   "source": [
    "len(list_primitive)"
   ]
  },
  {
   "cell_type": "code",
   "execution_count": null,
   "id": "10b94531",
   "metadata": {},
   "outputs": [
    {
     "data": {
      "text/plain": [
       "'1'"
      ]
     },
     "execution_count": 69,
     "metadata": {},
     "output_type": "execute_result"
    }
   ],
   "source": [
    "list_primitive[0]"
   ]
  },
  {
   "cell_type": "code",
   "execution_count": null,
   "id": "4f64bdba",
   "metadata": {},
   "outputs": [],
   "source": [
    "list_primitive[0] = 5 # Lists are muttable"
   ]
  },
  {
   "cell_type": "code",
   "execution_count": null,
   "id": "b48981c2",
   "metadata": {},
   "outputs": [
    {
     "data": {
      "text/plain": [
       "[5, '2', '3']"
      ]
     },
     "execution_count": 71,
     "metadata": {},
     "output_type": "execute_result"
    }
   ],
   "source": [
    "list_primitive"
   ]
  },
  {
   "cell_type": "code",
   "execution_count": null,
   "id": "e2dff3ed",
   "metadata": {},
   "outputs": [
    {
     "data": {
      "text/plain": [
       "[5, '2', '3', 1, 2, 3]"
      ]
     },
     "execution_count": 72,
     "metadata": {},
     "output_type": "execute_result"
    }
   ],
   "source": [
    "list_primitive + [1, 2, 3] #Appends"
   ]
  },
  {
   "cell_type": "code",
   "execution_count": null,
   "id": "b77e06de",
   "metadata": {},
   "outputs": [],
   "source": [
    "list_primitive.append(\"Pero\")"
   ]
  },
  {
   "cell_type": "code",
   "execution_count": null,
   "id": "442c40d9",
   "metadata": {},
   "outputs": [
    {
     "data": {
      "text/plain": [
       "[5, '2', '3', 'Pero']"
      ]
     },
     "execution_count": 74,
     "metadata": {},
     "output_type": "execute_result"
    }
   ],
   "source": [
    "list_primitive"
   ]
  },
  {
   "cell_type": "code",
   "execution_count": null,
   "id": "5f1e883e",
   "metadata": {},
   "outputs": [
    {
     "data": {
      "text/plain": [
       "'Pero'"
      ]
     },
     "execution_count": 75,
     "metadata": {},
     "output_type": "execute_result"
    }
   ],
   "source": [
    "list_primitive.pop() # Removes the last element and returns it "
   ]
  },
  {
   "cell_type": "code",
   "execution_count": null,
   "id": "ad697ac3",
   "metadata": {},
   "outputs": [
    {
     "data": {
      "text/plain": [
       "[5, '2', '3']"
      ]
     },
     "execution_count": 76,
     "metadata": {},
     "output_type": "execute_result"
    }
   ],
   "source": [
    "list_primitive"
   ]
  },
  {
   "cell_type": "code",
   "execution_count": null,
   "id": "777b5dd2",
   "metadata": {},
   "outputs": [],
   "source": [
    "del list_primitive[0]"
   ]
  },
  {
   "cell_type": "code",
   "execution_count": null,
   "id": "a87af842",
   "metadata": {},
   "outputs": [
    {
     "data": {
      "text/plain": [
       "['2', '3']"
      ]
     },
     "execution_count": 78,
     "metadata": {},
     "output_type": "execute_result"
    }
   ],
   "source": [
    "list_primitive"
   ]
  },
  {
   "cell_type": "markdown",
   "id": "3118d6c6",
   "metadata": {},
   "source": [
    "# Basic statements"
   ]
  },
  {
   "cell_type": "code",
   "execution_count": null,
   "id": "44c2f5a2",
   "metadata": {},
   "outputs": [
    {
     "name": "stdout",
     "output_type": "stream",
     "text": [
      "10\n",
      "10\n",
      "10\n"
     ]
    }
   ],
   "source": [
    "for x in range(3):\n",
    "    print(10)"
   ]
  },
  {
   "cell_type": "code",
   "execution_count": null,
   "id": "a3d85b21",
   "metadata": {},
   "outputs": [
    {
     "name": "stdout",
     "output_type": "stream",
     "text": [
      "0\n",
      "1\n",
      "2\n"
     ]
    }
   ],
   "source": [
    "x = 0\n",
    "while x < 3:\n",
    "    print(x)\n",
    "    x+=1 "
   ]
  },
  {
   "cell_type": "code",
   "execution_count": null,
   "id": "e53eedd7",
   "metadata": {},
   "outputs": [
    {
     "name": "stdout",
     "output_type": "stream",
     "text": [
      "test\n"
     ]
    }
   ],
   "source": [
    "def name_of_func(arguments):\n",
    "    print(arguments)\n",
    "    \n",
    "name_of_func(\"test\")"
   ]
  },
  {
   "cell_type": "markdown",
   "id": "faf610bb",
   "metadata": {},
   "source": [
    "# Dictionaries"
   ]
  },
  {
   "cell_type": "markdown",
   "id": "924e55ea",
   "metadata": {},
   "source": [
    "### Dictionaries are ordered elements by some \"KEY\""
   ]
  },
  {
   "cell_type": "code",
   "execution_count": null,
   "id": "31ca9aa6",
   "metadata": {},
   "outputs": [],
   "source": [
    "dictionary = {}\n",
    "dictionary = dict()"
   ]
  },
  {
   "cell_type": "markdown",
   "id": "a7394da1",
   "metadata": {},
   "source": [
    "### How do we abstractise data or relations in programming languages ? "
   ]
  },
  {
   "cell_type": "code",
   "execution_count": null,
   "id": "24f36652",
   "metadata": {},
   "outputs": [],
   "source": [
    "people_who_live_in_cities = {\"petar\": \"skopje\", \"alex\": \"bucharesh\", \"vitor\": \"brazil\"}"
   ]
  },
  {
   "cell_type": "code",
   "execution_count": null,
   "id": "be92ff93",
   "metadata": {},
   "outputs": [
    {
     "data": {
      "text/plain": [
       "'skopje'"
      ]
     },
     "execution_count": 92,
     "metadata": {},
     "output_type": "execute_result"
    }
   ],
   "source": [
    "people_who_live_in_cities[\"petar\"]"
   ]
  },
  {
   "cell_type": "code",
   "execution_count": null,
   "id": "55bd1967",
   "metadata": {},
   "outputs": [
    {
     "data": {
      "text/plain": [
       "'bucharesh'"
      ]
     },
     "execution_count": 93,
     "metadata": {},
     "output_type": "execute_result"
    }
   ],
   "source": [
    "people_who_live_in_cities[\"alex\"]"
   ]
  },
  {
   "cell_type": "code",
   "execution_count": null,
   "id": "3d169ecc",
   "metadata": {},
   "outputs": [],
   "source": [
    "portfolio = {\"petar\": {\"city\":\"skopje\", \"food\":\"mcdonals\"}, \"alex\": {\"city\":\"bucharesh\", \"food\":\"burger king\"}, \"vitor\": {\"city\":\"brazil\", \"food\":\"natto\"}}"
   ]
  },
  {
   "cell_type": "code",
   "execution_count": null,
   "id": "b52947ee",
   "metadata": {},
   "outputs": [
    {
     "data": {
      "text/plain": [
       "{'petar': {'city': 'skopje', 'food': 'mcdonals'},\n",
       " 'alex': {'city': 'bucharesh', 'food': 'burger king'},\n",
       " 'vitor': {'city': 'brazil', 'food': 'natto'}}"
      ]
     },
     "execution_count": 96,
     "metadata": {},
     "output_type": "execute_result"
    }
   ],
   "source": [
    "portfolio"
   ]
  },
  {
   "cell_type": "code",
   "execution_count": null,
   "id": "777a1f22",
   "metadata": {},
   "outputs": [
    {
     "data": {
      "text/plain": [
       "('skopje', 'mcdonals', {'city': 'skopje', 'food': 'mcdonals'})"
      ]
     },
     "execution_count": 102,
     "metadata": {},
     "output_type": "execute_result"
    }
   ],
   "source": [
    "portfolio[\"petar\"][\"city\"], portfolio[\"petar\"][\"food\"], portfolio[\"petar\"]"
   ]
  },
  {
   "cell_type": "code",
   "execution_count": null,
   "id": "817fdb27",
   "metadata": {},
   "outputs": [],
   "source": [
    "names = portfolio.keys() # This is a array that holds all of the keys of the dictionary "
   ]
  },
  {
   "cell_type": "code",
   "execution_count": null,
   "id": "21a3d894",
   "metadata": {},
   "outputs": [],
   "source": [
    "# let's get all of the foods that people like "
   ]
  },
  {
   "cell_type": "code",
   "execution_count": null,
   "id": "713b38f2",
   "metadata": {},
   "outputs": [
    {
     "name": "stdout",
     "output_type": "stream",
     "text": [
      "mcdonals\n",
      "burger king\n",
      "natto\n"
     ]
    }
   ],
   "source": [
    "for name in names:\n",
    "    print(portfolio[name][\"food\"])"
   ]
  },
  {
   "cell_type": "markdown",
   "id": "f058381f",
   "metadata": {},
   "source": [
    "# Graph making with dictionaries"
   ]
  },
  {
   "cell_type": "code",
   "execution_count": 7,
   "id": "577ea338",
   "metadata": {},
   "outputs": [],
   "source": [
    "city_map = {\"Shinagawa\": [\"Minato\", \"Kawasaki\", \"Ookayama\"], \n",
    " \"Minato\":[\"Shinagawa\", \"Shibuya\", \"Tamachi\"], \n",
    " \"Ookayama\":[\"Shibuya\", \"Yokohama\", \"Saitama\"]}"
   ]
  },
  {
   "cell_type": "code",
   "execution_count": 8,
   "id": "858e5dfd",
   "metadata": {},
   "outputs": [
    {
     "data": {
      "text/plain": [
       "{'Shinagawa': ['Minato', 'Kawasaki', 'Ookayama'],\n",
       " 'Minato': ['Shinagawa', 'Shibuya', 'Tamachi'],\n",
       " 'Ookayama': ['Shibuya', 'Yokohama', 'Saitama']}"
      ]
     },
     "execution_count": 8,
     "metadata": {},
     "output_type": "execute_result"
    }
   ],
   "source": [
    "city_map"
   ]
  },
  {
   "cell_type": "code",
   "execution_count": 9,
   "id": "502c2e34",
   "metadata": {},
   "outputs": [
    {
     "data": {
      "text/plain": [
       "['__class__',\n",
       " '__contains__',\n",
       " '__delattr__',\n",
       " '__delitem__',\n",
       " '__dir__',\n",
       " '__doc__',\n",
       " '__eq__',\n",
       " '__format__',\n",
       " '__ge__',\n",
       " '__getattribute__',\n",
       " '__getitem__',\n",
       " '__gt__',\n",
       " '__hash__',\n",
       " '__init__',\n",
       " '__init_subclass__',\n",
       " '__iter__',\n",
       " '__le__',\n",
       " '__len__',\n",
       " '__lt__',\n",
       " '__ne__',\n",
       " '__new__',\n",
       " '__reduce__',\n",
       " '__reduce_ex__',\n",
       " '__repr__',\n",
       " '__setattr__',\n",
       " '__setitem__',\n",
       " '__sizeof__',\n",
       " '__str__',\n",
       " '__subclasshook__',\n",
       " 'clear',\n",
       " 'copy',\n",
       " 'fromkeys',\n",
       " 'get',\n",
       " 'items',\n",
       " 'keys',\n",
       " 'pop',\n",
       " 'popitem',\n",
       " 'setdefault',\n",
       " 'update',\n",
       " 'values']"
      ]
     },
     "execution_count": 9,
     "metadata": {},
     "output_type": "execute_result"
    }
   ],
   "source": []
  },
  {
   "cell_type": "code",
   "execution_count": 10,
   "id": "c8eb6533",
   "metadata": {},
   "outputs": [
    {
     "data": {
      "text/plain": [
       "<function dict.pop>"
      ]
     },
     "execution_count": 10,
     "metadata": {},
     "output_type": "execute_result"
    }
   ],
   "source": []
  },
  {
   "cell_type": "code",
   "execution_count": null,
   "id": "ec18abb7",
   "metadata": {},
   "outputs": [],
   "source": []
  }
 ],
 "metadata": {
  "kernelspec": {
   "display_name": "Python 3.7.13 ('python-3.7.13': venv)",
   "language": "python",
   "name": "python3"
  },
  "language_info": {
   "codemirror_mode": {
    "name": "ipython",
    "version": 3
   },
   "file_extension": ".py",
   "mimetype": "text/x-python",
   "name": "python",
   "nbconvert_exporter": "python",
   "pygments_lexer": "ipython3",
   "version": "3.7.13"
  },
  "vscode": {
   "interpreter": {
    "hash": "a3555c87b49629362fabc3362130a878e1af7e8f15ed123867dbaf9165c66537"
   }
  }
 },
 "nbformat": 4,
 "nbformat_minor": 5
}
