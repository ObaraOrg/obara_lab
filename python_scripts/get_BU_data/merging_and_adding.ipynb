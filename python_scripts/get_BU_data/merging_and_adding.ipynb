{
 "cells": [
  {
   "cell_type": "code",
   "execution_count": null,
   "id": "539abc14-c65a-4842-9b6f-4ff3e1a5ffa3",
   "metadata": {},
   "outputs": [
    {
     "name": "stderr",
     "output_type": "stream",
     "text": [
      "Executing <Task pending coro=<Kernel.dispatch_queue() running at /misc/home/stalex/01_work/01_wh_lfr/.direnv/python-3.7.13/lib/python3.7/site-packages/ipykernel/kernelbase.py:510> wait_for=<Future pending cb=[<TaskWakeupMethWrapper object at 0x2b7fd84839c0>()] created at /misc/home/stalex/01_work/01_wh_lfr/.direnv/python-3.7.13/lib/python3.7/site-packages/tornado/queues.py:248> cb=[IOLoop.add_future.<locals>.<lambda>() at /misc/home/stalex/01_work/01_wh_lfr/.direnv/python-3.7.13/lib/python3.7/site-packages/tornado/ioloop.py:687] created at /misc/home/stalex/01_work/01_wh_lfr/.direnv/python-3.7.13/lib/python3.7/site-packages/tornado/gen.py:874> took 12.644 seconds\n"
     ]
    }
   ],
   "source": [
    "import copy\n",
    "\n",
    "import matplotlib.pyplot as plt\n",
    "import numpy as np\n",
    "import serpentTools\n",
    "from serpentTools.parsers.results import ResultsReader\n",
    "\n",
    "\n",
    "#def main() -> None:\n",
    "resFile = \"InnerAssembly_res.m\"\n",
    "\n",
    "res_reader_0 = serpentTools.readDataFile(str('04_test/wh_lfrsuffleNo0/wh_lfr_res.m'))\n",
    "res_reader_1 = serpentTools.readDataFile(str('04_test/wh_lfrsuffleNo1/wh_lfr_res.m'))\n",
    "res_reader_2 = serpentTools.readDataFile(str('04_test/wh_lfrsuffleNo2/wh_lfr_res.m'))\n",
    "res_reader_3 = serpentTools.readDataFile(str('04_test/wh_lfrsuffleNo3/wh_lfr_res.m'))\n",
    "res_data_0 = res_reader_0.resdata\n",
    "res_data_1 = res_reader_1.resdata\n",
    "res_data_2 = res_reader_2.resdata\n",
    "res_data_3 = res_reader_3.resdata\n",
    "total_data = copy.deepcopy(res_data_0)\n",
    "\n",
    "for res in [res_data_1, res_data_2, res_data_3]:\n",
    "#        for key in [\"burnup\"]:\n",
    "#            matrix_base: np.ndarray = total_data[key]\n",
    "#            matrix_to_merge: np.ndarray = res[key]\n",
    "#            matrix_to_merge = matrix_to_merge + matrix_base[-1]\n",
    "#            total_data[key] = np.vstack((matrix_base, matrix_to_merge))\n",
    "    for key in res_data_0.keys():\n",
    "        if key == \"burnup\":\n",
    "            matrix_base: np.ndarray = total_data[key]\n",
    "            matrix_to_merge: np.ndarray = res[key]\n",
    "            matrix_to_merge = matrix_to_merge + matrix_base[-1]\n",
    "            total_data[key] = np.vstack((matrix_base, matrix_to_merge))\n",
    "        else:\n",
    "            matrix_base: np.ndarray = total_data[key]\n",
    "            matrix_to_merge: np.ndarray = res[key]\n",
    "            total_data[key] = np.vstack((matrix_base, matrix_to_merge))    \n",
    "\n",
    "#if __name__ == \"__main__\":\n",
    "#    main()"
   ]
  },
  {
   "cell_type": "code",
   "execution_count": null,
   "id": "6cc1a1ce",
   "metadata": {},
   "outputs": [],
   "source": [
    "total_data.keys()"
   ]
  },
  {
   "cell_type": "code",
   "execution_count": 1,
   "id": "d64cfd46-e6db-4a5f-8ee7-03505521c1b1",
   "metadata": {},
   "outputs": [
    {
     "name": "stderr",
     "output_type": "stream",
     "text": [
      "Executing <Handle IOLoop._run_callback(functools.par...2b7fd8444ed0>)) created at /misc/home/stalex/01_work/01_wh_lfr/.direnv/python-3.7.13/lib/python3.7/site-packages/tornado/platform/asyncio.py:247> took 0.747 seconds\n",
      "Executing <Handle IOLoop._run_callback(functools.par...2b7fd8444c10>)) created at /misc/home/stalex/01_work/01_wh_lfr/.direnv/python-3.7.13/lib/python3.7/site-packages/tornado/platform/asyncio.py:247> took 0.785 seconds\n",
      "Executing <Task pending coro=<Kernel.poll_control_queue() running at /misc/home/stalex/01_work/01_wh_lfr/.direnv/python-3.7.13/lib/python3.7/site-packages/ipykernel/kernelbase.py:279> wait_for=<Future pending cb=[<TaskWakeupMethWrapper object at 0x2b7fa66c3c60>()] created at /misc/home/stalex/01_work/01_wh_lfr/.direnv/python-3.7.13/lib/python3.7/site-packages/tornado/queues.py:248> cb=[_chain_future.<locals>._call_set_state() at /home/stalex/.pyenv/versions/3.7.13/lib/python3.7/asyncio/futures.py:358] created at /home/stalex/.pyenv/versions/3.7.13/lib/python3.7/asyncio/tasks.py:840> took 0.815 seconds\n",
      "Executing <Handle IOLoop._run_callback(functools.par...2b7fd8444480>)) created at /misc/home/stalex/01_work/01_wh_lfr/.direnv/python-3.7.13/lib/python3.7/site-packages/tornado/platform/asyncio.py:247> took 0.714 seconds\n",
      "IOStream.flush timed out\n",
      "Executing <Handle IOLoop._run_callback(functools.par...2b7fd84447f0>)) created at /misc/home/stalex/01_work/01_wh_lfr/.direnv/python-3.7.13/lib/python3.7/site-packages/tornado/platform/asyncio.py:247> took 0.141 seconds\n",
      "Executing <Handle IOLoop._run_callback(functools.par...2b7fd839cf80>)) created at /misc/home/stalex/01_work/01_wh_lfr/.direnv/python-3.7.13/lib/python3.7/site-packages/tornado/platform/asyncio.py:247> took 0.229 seconds\n"
     ]
    },
    {
     "ename": "NameError",
     "evalue": "name 'ResultsReader' is not defined",
     "output_type": "error",
     "traceback": [
      "\u001b[0;31m---------------------------------------------------------------------------\u001b[0m",
      "\u001b[0;31mNameError\u001b[0m                                 Traceback (most recent call last)",
      "\u001b[0;32m/tmp/ipykernel_2009/1783987635.py\u001b[0m in \u001b[0;36m<module>\u001b[0;34m\u001b[0m\n\u001b[0;32m----> 1\u001b[0;31m \u001b[0mtotal_data_plotter\u001b[0m \u001b[0;34m=\u001b[0m \u001b[0mResultsReader\u001b[0m\u001b[0;34m(\u001b[0m\u001b[0;34m\"\"\u001b[0m\u001b[0;34m)\u001b[0m\u001b[0;34m\u001b[0m\u001b[0;34m\u001b[0m\u001b[0m\n\u001b[0m\u001b[1;32m      2\u001b[0m \u001b[0mtotal_data_plotter\u001b[0m\u001b[0;34m.\u001b[0m\u001b[0mmetadata\u001b[0m \u001b[0;34m=\u001b[0m \u001b[0mres_reader_1\u001b[0m\u001b[0;34m.\u001b[0m\u001b[0mmetadata\u001b[0m\u001b[0;34m\u001b[0m\u001b[0;34m\u001b[0m\u001b[0m\n\u001b[1;32m      3\u001b[0m \u001b[0mtotal_data_plotter\u001b[0m\u001b[0;34m.\u001b[0m\u001b[0mresdata\u001b[0m \u001b[0;34m=\u001b[0m \u001b[0mtotal_data\u001b[0m\u001b[0;34m\u001b[0m\u001b[0;34m\u001b[0m\u001b[0m\n\u001b[1;32m      4\u001b[0m \u001b[0mtotal_data_plotter\u001b[0m\u001b[0;34m.\u001b[0m\u001b[0muniverses\u001b[0m \u001b[0;34m=\u001b[0m \u001b[0mres_reader_1\u001b[0m\u001b[0;34m.\u001b[0m\u001b[0muniverses\u001b[0m\u001b[0;34m\u001b[0m\u001b[0;34m\u001b[0m\u001b[0m\n\u001b[1;32m      5\u001b[0m \u001b[0mtotal_data_plotter\u001b[0m\u001b[0;34m.\u001b[0m\u001b[0mplot\u001b[0m\u001b[0;34m(\u001b[0m\u001b[0;34m\"burnup\"\u001b[0m\u001b[0;34m,\u001b[0m \u001b[0;34m[\u001b[0m\u001b[0;34m'balaSrcNeutronVr'\u001b[0m\u001b[0;34m]\u001b[0m\u001b[0;34m)\u001b[0m\u001b[0;34m\u001b[0m\u001b[0;34m\u001b[0m\u001b[0m\n",
      "\u001b[0;31mNameError\u001b[0m: name 'ResultsReader' is not defined"
     ]
    }
   ],
   "source": [
    "total_data_plotter = ResultsReader(\"\")\n",
    "total_data_plotter.metadata = res_reader_1.metadata\n",
    "total_data_plotter.resdata = total_data\n",
    "total_data_plotter.universes = res_reader_1.universes\n",
    "total_data_plotter.plot(\"burnup\", ['balaSrcNeutronVr'])\n",
    "plt.show()"
   ]
  },
  {
   "cell_type": "code",
   "execution_count": null,
   "id": "b3795b09-0164-4eab-9ee4-939e2166e95f",
   "metadata": {},
   "outputs": [],
   "source": [
    "total_data_plotter.plot(\"burnup\", ['totAbsrate','totCaptrate'])"
   ]
  },
  {
   "cell_type": "code",
   "execution_count": null,
   "id": "f8d8ec71-b86c-4186-a2c6-81760763a601",
   "metadata": {},
   "outputs": [],
   "source": [
    "#total_data['balaLossNeutronTot']\n",
    "total_data_plotter.universes.keys()"
   ]
  },
  {
   "cell_type": "code",
   "execution_count": null,
   "id": "ea54a276-2145-40e0-8c46-ab04ce2be649",
   "metadata": {},
   "outputs": [],
   "source": []
  }
 ],
 "metadata": {
  "kernelspec": {
   "display_name": "Python 3 (ipykernel)",
   "language": "python",
   "name": "python3"
  },
  "language_info": {
   "codemirror_mode": {
    "name": "ipython",
    "version": 3
   },
   "file_extension": ".py",
   "mimetype": "text/x-python",
   "name": "python",
   "nbconvert_exporter": "python",
   "pygments_lexer": "ipython3",
   "version": "3.7.13"
  }
 },
 "nbformat": 4,
 "nbformat_minor": 5
}
