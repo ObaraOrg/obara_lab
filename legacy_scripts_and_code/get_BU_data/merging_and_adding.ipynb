{
 "cells": [
  {
   "cell_type": "code",
   "execution_count": null,
   "id": "539abc14-c65a-4842-9b6f-4ff3e1a5ffa3",
   "metadata": {},
   "outputs": [],
   "source": [
    "import copy\n",
    "import matplotlib.pyplot as plt\n",
    "import numpy as np\n",
    "import serpentTools\n",
    "from serpentTools.parsers.results import ResultsReader\n",
    "\n",
    "\n",
    "#def main() -> None:\n",
    "resFile = \"InnerAssembly_res.m\"\n",
    "\n",
    "res_reader_0 = serpentTools.readDataFile(str('04_test/wh_lfrsuffleNo0/wh_lfr_res.m'))\n",
    "res_reader_1 = serpentTools.readDataFile(str('04_test/wh_lfrsuffleNo1/wh_lfr_res.m'))\n",
    "res_reader_2 = serpentTools.readDataFile(str('04_test/wh_lfrsuffleNo2/wh_lfr_res.m'))\n",
    "res_reader_3 = serpentTools.readDataFile(str('04_test/wh_lfrsuffleNo3/wh_lfr_res.m'))\n",
    "res_data_0 = res_reader_0.resdata\n",
    "res_data_1 = res_reader_1.resdata\n",
    "res_data_2 = res_reader_2.resdata\n",
    "res_data_3 = res_reader_3.resdata\n",
    "total_data = copy.deepcopy(res_data_0)\n",
    "\n",
    "for res in [res_data_1, res_data_2, res_data_3]:\n",
    "#        for key in [\"burnup\"]:\n",
    "#            matrix_base: np.ndarray = total_data[key]\n",
    "#            matrix_to_merge: np.ndarray = res[key]\n",
    "#            matrix_to_merge = matrix_to_merge + matrix_base[-1]\n",
    "#            total_data[key] = np.vstack((matrix_base, matrix_to_merge))\n",
    "    for key in res_data_0.keys():\n",
    "        if key == \"burnup\":\n",
    "            matrix_base: np.ndarray = total_data[key]\n",
    "            matrix_to_merge: np.ndarray = res[key]\n",
    "            matrix_to_merge = matrix_to_merge + matrix_base[-1]\n",
    "            total_data[key] = np.vstack((matrix_base, matrix_to_merge))\n",
    "        else:\n",
    "            matrix_base: np.ndarray = total_data[key]\n",
    "            matrix_to_merge: np.ndarray = res[key]\n",
    "            total_data[key] = np.vstack((matrix_base, matrix_to_merge))    \n",
    "\n",
    "#if __name__ == \"__main__\":\n",
    "#    main()"
   ]
  },
  {
   "cell_type": "code",
   "execution_count": null,
   "id": "6cc1a1ce",
   "metadata": {},
   "outputs": [],
   "source": [
    "total_data.keys()"
   ]
  },
  {
   "cell_type": "code",
   "execution_count": null,
   "id": "d64cfd46-e6db-4a5f-8ee7-03505521c1b1",
   "metadata": {},
   "outputs": [],
   "source": [
    "total_data_plotter = ResultsReader(\"\")\n",
    "total_data_plotter.metadata = res_reader_1.metadata\n",
    "total_data_plotter.resdata = total_data\n",
    "total_data_plotter.universes = res_reader_1.universes\n",
    "total_data_plotter.plot(\"burnup\", ['balaSrcNeutronVr'])\n",
    "plt.show()"
   ]
  },
  {
   "cell_type": "code",
   "execution_count": null,
   "id": "b3795b09-0164-4eab-9ee4-939e2166e95f",
   "metadata": {},
   "outputs": [],
   "source": [
    "total_data_plotter.plot(\"burnup\", ['totAbsrate','totCaptrate'])"
   ]
  },
  {
   "cell_type": "code",
   "execution_count": null,
   "id": "f8d8ec71-b86c-4186-a2c6-81760763a601",
   "metadata": {},
   "outputs": [],
   "source": [
    "#total_data['balaLossNeutronTot']\n",
    "total_data_plotter.universes.keys()"
   ]
  }
 ],
 "metadata": {
  "kernelspec": {
   "display_name": "Python 3 (ipykernel)",
   "language": "python",
   "name": "python3"
  },
  "language_info": {
   "codemirror_mode": {
    "name": "ipython",
    "version": 3
   },
   "file_extension": ".py",
   "mimetype": "text/x-python",
   "name": "python",
   "nbconvert_exporter": "python",
   "pygments_lexer": "ipython3",
   "version": "3.7.13"
  }
 },
 "nbformat": 4,
 "nbformat_minor": 5
}
