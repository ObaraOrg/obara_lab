{
 "cells": [
  {
   "cell_type": "code",
   "execution_count": null,
   "id": "303faf78-45f9-4f18-8a66-6c17c43de8bc",
   "metadata": {},
   "outputs": [],
   "source": [
    "#import pathlib\n",
    "from pathlib import Path\n",
    "from typing import List, Tuple, Union\n",
    "import csv\n",
    "#import copy\n",
    "import numpy as np\n",
    "#import matplotlib.pyplot as plt\n",
    "import serpentTools\n",
    "from serpentTools.parsers.results import ResultsReader\n",
    "#import click\n",
    "#import matplotlib.pyplot as plt\n",
    "\n",
    "serpentTools.settings.rc[\"serpentVersion\"] = \"2.1.32\"\n",
    "P = 48 #max no of FA\n",
    "Z = 6  #max no of slices\n",
    "\n",
    "AV = 0.6221408E+24\n",
    "\n",
    "# get atomic wt numbers, store in atomic_wt_dict\n",
    "with open(\"isotope_awt_list.csv\", mode='r') as infile:\n",
    "    reader = csv.reader(infile)\n",
    "    with open('coors_new.csv', mode='w') as outfile:\n",
    "        writer = csv.writer(outfile)\n",
    "        atomic_wt_dict = {rows[0]:rows[1] for rows in reader}\n",
    "\n",
    "\n",
    "def discharge_bu() -> None:\n",
    "    res_list = []\n",
    "\n",
    "    with serpentTools.settings.rc:\n",
    "        serpentTools.settings.rc[\"verbosity\"] = \"error\"\n",
    "    dep = serpentTools.read(\"wh_lfr_dep.m\")\n",
    "    \n",
    "    return dep\n",
    "\n",
    "dep = discharge_bu()\n",
    "\n",
    "\n",
    "def split_name(name: str)->Tuple[int, int]:\n",
    "    \"\"\"The functions take a fuel name, separates the P and Z and takes out the indexes\n",
    "        Note: It s made only for this specific nomeclature, needs modification if you \n",
    "        want more fancy names\n",
    "\n",
    "    Args:\n",
    "        name (str): Takes in a standard fuel position name \"fuelPxxxZxxx\"\n",
    "\n",
    "    Returns:\n",
    "        Tuple[int, int]: Gives out a tuple with the val of P and Z\n",
    "    \"\"\"\n",
    "    without_fuel = name[4:]\n",
    "    split_without_fuel  = without_fuel.split(\"Z\")\n",
    "    p_num = int(split_without_fuel[0][1:])\n",
    "    z_num = int(split_without_fuel[1])\n",
    "    return p_num, z_num"
   ]
  },
  {
   "attachments": {},
   "cell_type": "markdown",
   "id": "c3846d76",
   "metadata": {},
   "source": [
    "### NEW VERSION"
   ]
  },
  {
   "attachments": {},
   "cell_type": "markdown",
   "id": "7460e6a0",
   "metadata": {},
   "source": [
    "#### This is the part to be used inside the run to get the right _dep.m file\n",
    "\n",
    "set inventory\t\t\t% - Sets inventory for dep.m file \n",
    "\n",
    "Th-227 Th-228 Th-229 Th-230 Th-231 Th-232 Th-233 Th-234\n",
    "Pa-231 Pa-232 Pa-233\n",
    "U-232  U-233  U-234  U-235  U-236  U-237  U-238  U-239  U-240  U-241 \n",
    "Np-235 Np-236 Np-237 Np-238 Np-239\n",
    "Pu-236 Pu-237 Pu-238 Pu-239 Pu-240 Pu-241 Pu-242 Pu-243 Pu-244\n",
    "Am-241 Am-242 Am-242m Am-243 Am-244 Am-244m \n",
    "Cm-240 Cm-241 Cm-242 Cm-243 Cm-244 Cm-245 Cm-246 Cm-247 Cm-248 Cm-249 Cm-250\n",
    "\n",
    "Th Pa U Np Pu Am Cm\t\t\t% - total list"
   ]
  },
  {
   "cell_type": "code",
   "execution_count": null,
   "id": "300d064d",
   "metadata": {},
   "outputs": [],
   "source": [
    "materials = dep.materials.keys()\n",
    "#create my own dict with fuel vol's\n",
    "fuel_vol_dict = {}\n",
    "\n",
    "# Go through each material index\n",
    "for fuel_vol in materials:\n",
    "    if fuel_vol == \"total\":\n",
    "        # The continue, skips the loop interation at that point\n",
    "        continue\n",
    "    # Add the materials until 52 pos, exclude the total ones, big total and lost (maybe there is some way more intuitive)\n",
    "    # Last column (last BU step in sss2) is taken and summed up for each fuel volume, store in dic wth key mdens_sum\n",
    "    fuel_vol_dict[fuel_vol] = {\"mdens_sum\": dep.materials[fuel_vol].mdens[:, -1][0:52].sum(), \"serpent_burnup\": dep.materials[fuel_vol].burnup[-1]}\n",
    "\n",
    "for fuel_vol in fuel_vol_dict:\n",
    "    p_index, z_index = split_name(str(fuel_vol))\n",
    "    mdens_to_divide_key = f\"fuelP1Z{z_index}\"\n",
    "    mdens_to_divide = dep.materials[mdens_to_divide_key].mdens[:, -1][0:52].sum()\n",
    "    ratio = fuel_vol_dict[fuel_vol][\"mdens_sum\"] / mdens_to_divide\n",
    "    fuel_vol_dict[fuel_vol][\"mdens_ratio\"] = ratio\n",
    "    #print(ratio)\n",
    "\n",
    "for fuel_vol in fuel_vol_dict.keys():\n",
    "    p_index, z_index = split_name(fuel_vol)\n",
    "    burn_up = fuel_vol_dict[fuel_vol][\"serpent_burnup\"]\n",
    "    #print(burn_up)\n",
    "    if p_index == 1:\n",
    "        fuel_vol_dict[fuel_vol][\"corrected_burnup\"] = burn_up\n",
    "        continue\n",
    "    \n",
    "    material_name = f\"fuelP{p_index - 1}Z{z_index}\"\n",
    "    ratio = fuel_vol_dict[material_name][\"mdens_ratio\"]\n",
    "    corrected_burnup = burn_up * ratio\n",
    "    fuel_vol_dict[fuel_vol][\"corrected_burnup\"] = corrected_burnup\n",
    "\n",
    "average_burnups = {}\n",
    "for fuel_vol in fuel_vol_dict.keys():\n",
    "    p_index, _ = split_name(fuel_vol)\n",
    "    average_burnup = 0\n",
    "    for zidx in range(1 , Z + 1):\n",
    "        key_construct = f\"fuelP{p_index}Z{zidx}\"\n",
    "        average_burnup += fuel_vol_dict[key_construct][\"corrected_burnup\"] / Z\n",
    "    average_burnups[f\"P{p_index}\"] = average_burnup\n",
    "\n",
    "average_burnups_axial = {}\n",
    "for fuel_vol in fuel_vol_dict.keys():\n",
    "    _, z_index = split_name(fuel_vol)\n",
    "    average_axial_burnup = 0\n",
    "    for pidx in range(1 , P + 1):\n",
    "        key_construct = f\"fuelP{pidx}Z{z_index}\"\n",
    "        average_axial_burnup += fuel_vol_dict[key_construct][\"corrected_burnup\"]\n",
    "    average_burnups_axial[f\"Z{z_index}\"] = average_axial_burnup\n"
   ]
  },
  {
   "cell_type": "code",
   "execution_count": null,
   "id": "7472b35b",
   "metadata": {},
   "outputs": [],
   "source": [
    "average_burnups_axial"
   ]
  },
  {
   "cell_type": "code",
   "execution_count": null,
   "id": "7a8ff7ed",
   "metadata": {},
   "outputs": [],
   "source": [
    "sum([value for key, value in average_burnups.items()])\n"
   ]
  },
  {
   "cell_type": "code",
   "execution_count": null,
   "id": "5ee59348",
   "metadata": {},
   "outputs": [],
   "source": [
    "sum([value for key, value in average_burnups_axial.items()]) / Z"
   ]
  },
  {
   "cell_type": "code",
   "execution_count": null,
   "id": "b400af53",
   "metadata": {},
   "outputs": [],
   "source": [
    "average_burnups"
   ]
  },
  {
   "cell_type": "code",
   "execution_count": null,
   "id": "9217eccf",
   "metadata": {},
   "outputs": [],
   "source": [
    "dep = serpentTools.read(\"wh_lfr_dep.m\")"
   ]
  },
  {
   "cell_type": "code",
   "execution_count": null,
   "id": "6a73b105",
   "metadata": {},
   "outputs": [],
   "source": [
    "dir(dep.materials[\"total\"])\n"
   ]
  },
  {
   "cell_type": "code",
   "execution_count": null,
   "id": "2bd438dd",
   "metadata": {},
   "outputs": [],
   "source": [
    "dayPoints = totalfuel.days\n",
    "iso = ['plutonium', 'U238']\n",
    "zai = [94, 922380]\n",
    "\n",
    "totalfuel = dep.materials[\"total\"]\n",
    "\n",
    "#totalfuel.data[\"mass\"]\n",
    "\n",
    "totalfuel.getValues('days', 'mass', totalfuel.days, iso)\n",
    "#totalfuel.names"
   ]
  },
  {
   "cell_type": "code",
   "execution_count": null,
   "id": "a33e4e67",
   "metadata": {},
   "outputs": [],
   "source": [
    "totalfuel.days"
   ]
  },
  {
   "cell_type": "code",
   "execution_count": null,
   "id": "8ae89864",
   "metadata": {},
   "outputs": [],
   "source": [
    "import json\n",
    "\n",
    "x = dep.materials[\"fuelP48Z1\"].toDataFrame(\"a\", names=[json.dumps(totalfuel.names)], time=\"days\")"
   ]
  },
  {
   "cell_type": "code",
   "execution_count": null,
   "id": "83680dc9",
   "metadata": {},
   "outputs": [],
   "source": [
    "totalfuel.getValues('days', 'a', dayPoints, iso)"
   ]
  }
 ],
 "metadata": {
  "kernelspec": {
   "display_name": "python-3.7.13",
   "language": "python",
   "name": "python3"
  },
  "language_info": {
   "codemirror_mode": {
    "name": "ipython",
    "version": 3
   },
   "file_extension": ".py",
   "mimetype": "text/x-python",
   "name": "python",
   "nbconvert_exporter": "python",
   "pygments_lexer": "ipython3",
   "version": "3.7.13"
  },
  "vscode": {
   "interpreter": {
    "hash": "2b5a5fc0eecf740d3f01787c0c8b258c767aee11db71399ebfe8e3c326782d44"
   }
  }
 },
 "nbformat": 4,
 "nbformat_minor": 5
}
