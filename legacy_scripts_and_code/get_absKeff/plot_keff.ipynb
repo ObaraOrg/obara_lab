{
 "cells": [
  {
   "cell_type": "code",
   "execution_count": null,
   "id": "f0217677",
   "metadata": {},
   "outputs": [],
   "source": [
    "import os\n",
    "import re\n",
    "from pathlib import Path\n",
    "\n",
    "import matplotlib.pyplot as plt\n",
    "import numpy as np\n",
    "import serpentTools\n",
    "\n",
    "# Suppersing the ver and reading err outputed by serpentTools\n",
    "sp.settings.rc[\"serpentVersion\"] = \"2.1.32\"\n",
    "sp.settings.rc[\"verbosity\"] = \"error\"\n",
    "\n",
    "BASE_PATH = Path.cwd()\n",
    "\n",
    "def pathconstructor(index):\n",
    "    return BASE_PATH / f\"sim_folder/wh_lfrsuffleNo{index}/wh_lfr_res.m\"\n",
    "\n",
    "def main() -> None:\n",
    "    folders = [f for f in os.listdir('.') if os.path.isdir(f)]\n",
    "    \n",
    "    for simulation_name in folders:\n",
    "        print(simulation_name)\n",
    "        list_of_files = sorted(Path(simulation_name).rglob(\"wh_lfr_res.m\"))\n",
    "        # Probable ISSUE, it may pick up any left over res.m file in the simulation folder     \n",
    "        files_str = [str(file) for file in list_of_files]\n",
    "        files_str.sort(key=lambda f: int(re.sub(r\"\\D\", \"\", f)))\n",
    "        with serpentTools.settings.rc:\n",
    "            serpentTools.settings.rc[\"verbosity\"] = \"error\"\n",
    "            files_read = [serpentTools.read(file_loc) for file_loc in files_str]\n",
    "\n",
    "        keffs = np.concatenate([reader.resdata[\"absKeff\"][:, 0] for reader in files_read])\n",
    "        base_time_scale = files_read[0].resdata[\"burnDays\"][0:,0]\n",
    "        one_period = np.max(files_read[0].resdata[\"burnDays\"])\n",
    "        time_array = base_time_scale\n",
    "\n",
    "        time_array = np.concatenate(\n",
    "            [base_time_scale + idx * one_period for idx in range(0, len(files_read))]\n",
    "        )\n",
    "\n",
    "        plt.plot(time_array, keffs)\n",
    "        plt.legend(folders, loc=\"lower right\")\n",
    "\n",
    "    breakpoint() \n",
    "    plt.xlabel(\"EFPD\")\n",
    "    plt.ylabel(\"Keff\")\n",
    "    plt.show()\n",
    "\n",
    "if __name__ == \"__main__\":\n",
    "    main()"
   ]
  }
 ],
 "metadata": {
  "kernelspec": {
   "display_name": "python-3.7.13",
   "language": "python",
   "name": "python3"
  },
  "language_info": {
   "codemirror_mode": {
    "name": "ipython",
    "version": 3
   },
   "file_extension": ".py",
   "mimetype": "text/x-python",
   "name": "python",
   "nbconvert_exporter": "python",
   "pygments_lexer": "ipython3",
   "version": "3.7.13"
  },
  "vscode": {
   "interpreter": {
    "hash": "cf4eb4d19a2a69c0e55793cd073d418ef392fd1469e1e2b13267d7f8086a3a66"
   }
  }
 },
 "nbformat": 4,
 "nbformat_minor": 5
}
